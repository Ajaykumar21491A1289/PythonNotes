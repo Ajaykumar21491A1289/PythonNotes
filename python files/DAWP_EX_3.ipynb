{
  "nbformat": 4,
  "nbformat_minor": 0,
  "metadata": {
    "colab": {
      "provenance": []
    },
    "kernelspec": {
      "name": "python3",
      "display_name": "Python 3"
    },
    "language_info": {
      "name": "python"
    }
  },
  "cells": [
    {
      "cell_type": "markdown",
      "source": [
        "**AIM:Create a Ipython notebook to work with numpy module**\n",
        ".(a)creating 1D And 2D arrays\n",
        ".(b)Arithetic operations on arrays\n",
        ".(c)Basic indexing,Slicing And Boolean Indexing\n",
        ".(d)Transposing Arrays and Swapping axes\n"
      ],
      "metadata": {
        "id": "SBdwHB191aQk"
      }
    },
    {
      "cell_type": "code",
      "source": [
        "import numpy as np"
      ],
      "metadata": {
        "id": "gFW1SuS31ZB0"
      },
      "execution_count": null,
      "outputs": []
    },
    {
      "cell_type": "markdown",
      "source": [
        "**(a) Creating 1D and 2D Arrays**"
      ],
      "metadata": {
        "id": "tsRb3UZ22NkN"
      }
    },
    {
      "cell_type": "code",
      "execution_count": null,
      "metadata": {
        "colab": {
          "base_uri": "https://localhost:8080/"
        },
        "id": "6yjyQqiX1Sxd",
        "outputId": "9900a4b2-91a8-44e7-89fb-7877e74d9138"
      },
      "outputs": [
        {
          "output_type": "stream",
          "name": "stdout",
          "text": [
            "[10 20 30 40 50]\n"
          ]
        }
      ],
      "source": [
        "#Creating 1D Array from the list\n",
        "arr1d=np.array([10,20,30,40,50])#it take argument as any iterable object\n",
        "print(arr1d)#the main diff b/w array & list is list seperate by ',' but array doesn't seperate by ','"
      ]
    },
    {
      "cell_type": "code",
      "source": [
        "numbers=[10,20,30,40,50,60]\n",
        "arr1d=np.array(numbers)"
      ],
      "metadata": {
        "id": "r7hiJy74EeZp"
      },
      "execution_count": null,
      "outputs": []
    },
    {
      "cell_type": "code",
      "source": [
        "type(arr1d)#nd means number of dimensions"
      ],
      "metadata": {
        "colab": {
          "base_uri": "https://localhost:8080/"
        },
        "id": "8OaeouLE248z",
        "outputId": "1d57a257-87d6-4f1f-e8f7-bde8bf5a014f"
      },
      "execution_count": null,
      "outputs": [
        {
          "output_type": "execute_result",
          "data": {
            "text/plain": [
              "numpy.ndarray"
            ]
          },
          "metadata": {},
          "execution_count": 55
        }
      ]
    },
    {
      "cell_type": "code",
      "source": [
        "#Creating 2D Array from the list\n",
        "arr2d=np.array([[10,20,30],[40,50,60],[70,80,90]])\n",
        "print(arr2d)"
      ],
      "metadata": {
        "colab": {
          "base_uri": "https://localhost:8080/"
        },
        "id": "3N9XNStH3FBC",
        "outputId": "cd703d6b-8ad8-4c78-cffe-141d1504172a"
      },
      "execution_count": null,
      "outputs": [
        {
          "output_type": "stream",
          "name": "stdout",
          "text": [
            "[[10 20 30]\n",
            " [40 50 60]\n",
            " [70 80 90]]\n"
          ]
        }
      ]
    },
    {
      "cell_type": "code",
      "source": [
        "#properties of 1D array\n",
        "arr1d.size#it returns no.of elements in array"
      ],
      "metadata": {
        "colab": {
          "base_uri": "https://localhost:8080/"
        },
        "id": "DUJzAqIs39rq",
        "outputId": "396fe021-8402-4be5-c0cc-84c6e0b84d8f"
      },
      "execution_count": null,
      "outputs": [
        {
          "output_type": "execute_result",
          "data": {
            "text/plain": [
              "5"
            ]
          },
          "metadata": {},
          "execution_count": 5
        }
      ]
    },
    {
      "cell_type": "code",
      "source": [
        "arr1d.ndim#ndim is no.of dimensions of given array"
      ],
      "metadata": {
        "colab": {
          "base_uri": "https://localhost:8080/"
        },
        "id": "2SefVUuh4fWA",
        "outputId": "987337da-94fe-43a8-f5a4-6a88a1f23b5e"
      },
      "execution_count": null,
      "outputs": [
        {
          "output_type": "execute_result",
          "data": {
            "text/plain": [
              "1"
            ]
          },
          "metadata": {},
          "execution_count": 6
        }
      ]
    },
    {
      "cell_type": "code",
      "source": [
        "arr1d.shape#it returns the onlysize because it has only one row"
      ],
      "metadata": {
        "colab": {
          "base_uri": "https://localhost:8080/"
        },
        "id": "OJhEy1TM4lGw",
        "outputId": "8efaa15f-b418-4713-9433-11366ac9d4e2"
      },
      "execution_count": null,
      "outputs": [
        {
          "output_type": "execute_result",
          "data": {
            "text/plain": [
              "(5,)"
            ]
          },
          "metadata": {},
          "execution_count": 7
        }
      ]
    },
    {
      "cell_type": "code",
      "source": [
        "arr2d.size#it returns total number of elements"
      ],
      "metadata": {
        "colab": {
          "base_uri": "https://localhost:8080/"
        },
        "id": "D6Akjd-X456Y",
        "outputId": "8bd1d53b-8391-4cb4-8281-af6b01b1c863"
      },
      "execution_count": null,
      "outputs": [
        {
          "output_type": "execute_result",
          "data": {
            "text/plain": [
              "9"
            ]
          },
          "metadata": {},
          "execution_count": 8
        }
      ]
    },
    {
      "cell_type": "code",
      "source": [
        "arr2d.ndim#it return the no.of dimensions"
      ],
      "metadata": {
        "colab": {
          "base_uri": "https://localhost:8080/"
        },
        "id": "xMW3auw85BSo",
        "outputId": "5f0ff72b-4f82-4701-f194-a7463568ec51"
      },
      "execution_count": null,
      "outputs": [
        {
          "output_type": "execute_result",
          "data": {
            "text/plain": [
              "2"
            ]
          },
          "metadata": {},
          "execution_count": 10
        }
      ]
    },
    {
      "cell_type": "code",
      "source": [
        "arr2d.shape#it returns the no.of rows and no.of columns"
      ],
      "metadata": {
        "colab": {
          "base_uri": "https://localhost:8080/"
        },
        "id": "B2GBYWby5HZ4",
        "outputId": "61b09c78-33b2-46ff-e168-df00b3232d9e"
      },
      "execution_count": null,
      "outputs": [
        {
          "output_type": "execute_result",
          "data": {
            "text/plain": [
              "(3, 3)"
            ]
          },
          "metadata": {},
          "execution_count": 11
        }
      ]
    },
    {
      "cell_type": "code",
      "source": [
        "#creating 1D array from numpy arrange()\n",
        "ar1d=np.arange(10,16)#arange(start,stop,stepsize)\n",
        "print(ar1d)"
      ],
      "metadata": {
        "colab": {
          "base_uri": "https://localhost:8080/"
        },
        "id": "FrzCbBc-5Q7Y",
        "outputId": "f7be5303-4309-41d4-ef69-7352cebaf2c3"
      },
      "execution_count": null,
      "outputs": [
        {
          "output_type": "stream",
          "name": "stdout",
          "text": [
            "[10 12 14]\n"
          ]
        }
      ]
    },
    {
      "cell_type": "code",
      "source": [
        "#creating 1d array with all zeros\n",
        "zero1d=np.zeros(5)#by default the all zeros array is in float\n",
        "print(zero1d)\n",
        "zero1d1=np.zeros(5,dtype=int)\n",
        "print(zero1d1)\n"
      ],
      "metadata": {
        "colab": {
          "base_uri": "https://localhost:8080/"
        },
        "id": "jabEyVQ97eR7",
        "outputId": "09468a2c-311d-4c06-bb57-ab35a6f793ef"
      },
      "execution_count": null,
      "outputs": [
        {
          "output_type": "stream",
          "name": "stdout",
          "text": [
            "[0. 0. 0. 0. 0.]\n",
            "[0 0 0 0 0]\n"
          ]
        }
      ]
    },
    {
      "cell_type": "code",
      "source": [
        "#creating 2D array with all zeros\n",
        "zero2d=np.zeros(())\n",
        "zero2d=np.zeros((3,3))\n",
        "print(zero2d)"
      ],
      "metadata": {
        "colab": {
          "base_uri": "https://localhost:8080/"
        },
        "id": "iKoRPO5r8Czq",
        "outputId": "78433264-10da-4a33-d911-2cb5d74d37f3"
      },
      "execution_count": null,
      "outputs": [
        {
          "output_type": "stream",
          "name": "stdout",
          "text": [
            "0.0\n",
            "[[0. 0. 0.]\n",
            " [0. 0. 0.]\n",
            " [0. 0. 0.]]\n"
          ]
        }
      ]
    },
    {
      "cell_type": "code",
      "source": [
        "#creating 1D array with all ones\n",
        "one1d=np.ones(5)#by default the all zeros array is in float\n",
        "print(one1d)\n",
        "one1d1=np.ones(5,dtype=int)\n",
        "print(one1d1)\n"
      ],
      "metadata": {
        "colab": {
          "base_uri": "https://localhost:8080/"
        },
        "id": "YT9EjDmZ8xud",
        "outputId": "386bb9b7-3527-431c-8d30-b95808d90016"
      },
      "execution_count": null,
      "outputs": [
        {
          "output_type": "stream",
          "name": "stdout",
          "text": [
            "[1. 1. 1. 1. 1.]\n",
            "[1 1 1 1 1]\n"
          ]
        }
      ]
    },
    {
      "cell_type": "code",
      "source": [
        "#creating 2d array with all ones\n",
        "one12d=np.ones((3,3))\n",
        "print(one12d)\n"
      ],
      "metadata": {
        "colab": {
          "base_uri": "https://localhost:8080/"
        },
        "id": "7CSANukO-EAs",
        "outputId": "eae81046-7461-4015-f08a-85edd2031f89"
      },
      "execution_count": null,
      "outputs": [
        {
          "output_type": "stream",
          "name": "stdout",
          "text": [
            "[[1. 1. 1.]\n",
            " [1. 1. 1.]\n",
            " [1. 1. 1.]]\n"
          ]
        }
      ]
    },
    {
      "cell_type": "code",
      "source": [
        "#creating Identity matrix\n",
        "id_matrix=np.eye(3)\n",
        "print(id_matrix)#here all diagonals are 1"
      ],
      "metadata": {
        "colab": {
          "base_uri": "https://localhost:8080/"
        },
        "id": "2JteX9fP-SAV",
        "outputId": "93dd67e1-c1f9-4e21-a5c3-32cb06a3badb"
      },
      "execution_count": null,
      "outputs": [
        {
          "output_type": "stream",
          "name": "stdout",
          "text": [
            "[[1. 0. 0.]\n",
            " [0. 1. 0.]\n",
            " [0. 0. 1.]]\n"
          ]
        }
      ]
    },
    {
      "cell_type": "code",
      "source": [
        "#creating arrays using numpy random module\n",
        "from numpy import random"
      ],
      "metadata": {
        "id": "p5m0BLDF-ruz"
      },
      "execution_count": null,
      "outputs": []
    },
    {
      "cell_type": "code",
      "source": [
        "#creating 1-D & 2-D arrays using randint()\n",
        "rint1d = random.randint(10,size=5)#here 10 is also inclusive\n",
        "print(rint1d)\n",
        "rint2d=random.randint(2,35,size=(3,3))\n",
        "print(rint2d)"
      ],
      "metadata": {
        "colab": {
          "base_uri": "https://localhost:8080/"
        },
        "id": "IbIcf3by-82a",
        "outputId": "abf50225-06ce-4806-e17a-5a280c62bb8c"
      },
      "execution_count": null,
      "outputs": [
        {
          "output_type": "stream",
          "name": "stdout",
          "text": [
            "[4 0 0 3 2]\n",
            "[[19 20  3]\n",
            " [12  2 11]\n",
            " [10 30 34]]\n"
          ]
        }
      ]
    },
    {
      "cell_type": "code",
      "source": [
        "#creating 1-D ANd 2-D arrays using randn()-normal distribution\n",
        "rn1d=random.randn(5)#1-D array\n",
        "rn2d=random.randn(3,3)\n",
        "print(rn1d)\n",
        "print(rn1d.round(2))\n",
        "print(rn2d)\n",
        "print(rn2d.round(2))"
      ],
      "metadata": {
        "colab": {
          "base_uri": "https://localhost:8080/"
        },
        "id": "9cuLYEhj_m-a",
        "outputId": "c03e60d0-dc0f-4dc8-f934-e883d7114f5a"
      },
      "execution_count": null,
      "outputs": [
        {
          "output_type": "stream",
          "name": "stdout",
          "text": [
            "[ 0.16459224  0.43981987  0.14754622 -1.99620197  0.19717721]\n",
            "[ 0.16  0.44  0.15 -2.    0.2 ]\n",
            "[[ 0.73005868 -0.2235696  -0.04625243]\n",
            " [-1.1766966   0.36107302  1.41996789]\n",
            " [ 1.15671331  0.9365896   0.07036526]]\n",
            "[[ 0.73 -0.22 -0.05]\n",
            " [-1.18  0.36  1.42]\n",
            " [ 1.16  0.94  0.07]]\n"
          ]
        }
      ]
    },
    {
      "cell_type": "code",
      "source": [
        "#creating 1-D & 2-D arrays using rand()-uniform Distribution\n",
        "rnd1d=random.rand(4)\n",
        "print(rnd1d)\n",
        "rnd2d=random.rand(3,3)\n",
        "print(rnd2d)"
      ],
      "metadata": {
        "colab": {
          "base_uri": "https://localhost:8080/"
        },
        "id": "NFYXEFkOAt7B",
        "outputId": "2a143545-9c64-470d-fdac-6157eb5a842b"
      },
      "execution_count": null,
      "outputs": [
        {
          "output_type": "stream",
          "name": "stdout",
          "text": [
            "[0.21586527 0.08305311 0.29865102 0.9814621 ]\n",
            "[[0.12336933 0.13522543 0.76038584]\n",
            " [0.24127244 0.23441748 0.61325654]\n",
            " [0.11652539 0.19585299 0.7225377 ]]\n"
          ]
        }
      ]
    },
    {
      "cell_type": "code",
      "source": [
        "##creating 1-D & 2-D arrays using random()-values wil be Half interval b/w [0.0,1.0) \"[ is inclusive ,) is exclusive\"\n",
        "rndm1d=random.random(4)\n",
        "print(rndm1d)\n",
        "rndm2d=random.random((2,2))\n",
        "print(rndm2d)"
      ],
      "metadata": {
        "colab": {
          "base_uri": "https://localhost:8080/"
        },
        "id": "OixptLcBCUgv",
        "outputId": "68407c56-04ad-499c-85a1-19c794131b66"
      },
      "execution_count": null,
      "outputs": [
        {
          "output_type": "stream",
          "name": "stdout",
          "text": [
            "[0.58364108 0.92759137 0.96584765 0.68945285]\n",
            "[[0.73577761 0.27038439]\n",
            " [0.65509927 0.59725667]]\n"
          ]
        }
      ]
    },
    {
      "cell_type": "code",
      "source": [
        "#Create 1-D array with equal distance b/w elements - linspace()\n",
        "lns1d=np.linspace(10,20,5)\n",
        "print(lns1d)"
      ],
      "metadata": {
        "colab": {
          "base_uri": "https://localhost:8080/"
        },
        "id": "yHqH3wHgDR2-",
        "outputId": "e8506c60-6746-4a55-86f0-f6b4e9b9df2d"
      },
      "execution_count": null,
      "outputs": [
        {
          "output_type": "stream",
          "name": "stdout",
          "text": [
            "[10.  12.5 15.  17.5 20. ]\n"
          ]
        }
      ]
    },
    {
      "cell_type": "markdown",
      "source": [
        "**(B)Arithemetic operations on arrays**"
      ],
      "metadata": {
        "id": "n2Yuqnjx3KG4"
      }
    },
    {
      "cell_type": "code",
      "source": [
        "import numpy as np"
      ],
      "metadata": {
        "id": "OEC9sKvA4H5m"
      },
      "execution_count": null,
      "outputs": []
    },
    {
      "cell_type": "code",
      "source": [
        "a1=np.array([2,4,3,1])\n",
        "a2=np.arange(5,9)\n",
        "n=5\n",
        "m=2"
      ],
      "metadata": {
        "id": "NbGL7DIkD6Y2"
      },
      "execution_count": null,
      "outputs": []
    },
    {
      "cell_type": "code",
      "source": [
        "a1+n\n"
      ],
      "metadata": {
        "colab": {
          "base_uri": "https://localhost:8080/"
        },
        "id": "e8wGGszZ3xR6",
        "outputId": "37840702-a727-4b38-bc6b-30bf66587ea0"
      },
      "execution_count": null,
      "outputs": [
        {
          "output_type": "execute_result",
          "data": {
            "text/plain": [
              "array([7, 9, 8, 6])"
            ]
          },
          "metadata": {},
          "execution_count": 6
        }
      ]
    },
    {
      "cell_type": "code",
      "source": [
        "print(a2-3)"
      ],
      "metadata": {
        "colab": {
          "base_uri": "https://localhost:8080/"
        },
        "id": "mZJ6LYZP3zqJ",
        "outputId": "3e1cea69-1b48-4167-f1c9-e94199b912c7"
      },
      "execution_count": null,
      "outputs": [
        {
          "output_type": "stream",
          "name": "stdout",
          "text": [
            "[2 3 4 5]\n"
          ]
        }
      ]
    },
    {
      "cell_type": "code",
      "source": [
        "a1/m"
      ],
      "metadata": {
        "colab": {
          "base_uri": "https://localhost:8080/"
        },
        "id": "rolZpFBd4cIo",
        "outputId": "01c7be6d-df26-426c-eee2-72efdb4af2a8"
      },
      "execution_count": null,
      "outputs": [
        {
          "output_type": "execute_result",
          "data": {
            "text/plain": [
              "array([1. , 2. , 1.5, 0.5])"
            ]
          },
          "metadata": {},
          "execution_count": 8
        }
      ]
    },
    {
      "cell_type": "code",
      "source": [
        "print(a1)\n",
        "print(m)\n",
        "print(a1/m)#floating point divison"
      ],
      "metadata": {
        "colab": {
          "base_uri": "https://localhost:8080/"
        },
        "id": "hkudsIi_48z_",
        "outputId": "51aba199-f3ef-4bad-b6df-afc2cec0937e"
      },
      "execution_count": null,
      "outputs": [
        {
          "output_type": "stream",
          "name": "stdout",
          "text": [
            "[2 4 3 1]\n",
            "2\n",
            "[1.  2.  1.5 0.5]\n"
          ]
        }
      ]
    },
    {
      "cell_type": "code",
      "source": [
        "print(a1)\n",
        "print(m)\n",
        "print(a1//m)#integer divison"
      ],
      "metadata": {
        "colab": {
          "base_uri": "https://localhost:8080/"
        },
        "id": "xG3AMIGV5Tqm",
        "outputId": "99e7b30e-eb26-4812-828a-5fb538196fe3"
      },
      "execution_count": null,
      "outputs": [
        {
          "output_type": "stream",
          "name": "stdout",
          "text": [
            "[2 4 3 1]\n",
            "2\n",
            "[1 2 1 0]\n"
          ]
        }
      ]
    },
    {
      "cell_type": "code",
      "source": [
        "print(a2)\n",
        "print(a2**2)"
      ],
      "metadata": {
        "colab": {
          "base_uri": "https://localhost:8080/"
        },
        "id": "3x1srwTB5emn",
        "outputId": "a4276c09-ab14-4aca-d563-0c181b9cc5a4"
      },
      "execution_count": null,
      "outputs": [
        {
          "output_type": "stream",
          "name": "stdout",
          "text": [
            "[5 6 7 8]\n",
            "[25 36 49 64]\n"
          ]
        }
      ]
    },
    {
      "cell_type": "markdown",
      "source": [
        "**arithematic operation between arrays**"
      ],
      "metadata": {
        "id": "daCwlzBi7-5d"
      }
    },
    {
      "cell_type": "code",
      "source": [
        "  print(\"a1=\",a1)\n",
        "  print(\"a2=\",a2)"
      ],
      "metadata": {
        "colab": {
          "base_uri": "https://localhost:8080/"
        },
        "id": "DZlnLeBC6PCl",
        "outputId": "278c95d6-9d1e-4608-f683-a8e68df79b8b"
      },
      "execution_count": null,
      "outputs": [
        {
          "output_type": "stream",
          "name": "stdout",
          "text": [
            "a1= [2 4 3 1]\n",
            "a2= [5 6 7 8]\n"
          ]
        }
      ]
    },
    {
      "cell_type": "code",
      "source": [
        "a1+a2"
      ],
      "metadata": {
        "colab": {
          "base_uri": "https://localhost:8080/"
        },
        "id": "4NT_Pag672qU",
        "outputId": "6ac43ddd-2d4b-47e4-bdd8-6b49f2172ac5"
      },
      "execution_count": null,
      "outputs": [
        {
          "output_type": "execute_result",
          "data": {
            "text/plain": [
              "array([ 7, 10, 10,  9])"
            ]
          },
          "metadata": {},
          "execution_count": 14
        }
      ]
    },
    {
      "cell_type": "code",
      "source": [
        " a3=[4,5,6,7,8,9,10]"
      ],
      "metadata": {
        "id": "0dC5klWW75J7"
      },
      "execution_count": null,
      "outputs": []
    },
    {
      "cell_type": "code",
      "source": [
        "a1+a3#to perform addition b/w two two arrays there should be equal size of both arrays"
      ],
      "metadata": {
        "colab": {
          "base_uri": "https://localhost:8080/",
          "height": 165
        },
        "id": "yUrfc7ks8URL",
        "outputId": "c36abf19-6b54-4513-a4f4-a0040b280ce0"
      },
      "execution_count": null,
      "outputs": [
        {
          "output_type": "error",
          "ename": "ValueError",
          "evalue": "ignored",
          "traceback": [
            "\u001b[0;31m---------------------------------------------------------------------------\u001b[0m",
            "\u001b[0;31mValueError\u001b[0m                                Traceback (most recent call last)",
            "\u001b[0;32m<ipython-input-16-f3952d2e37d2>\u001b[0m in \u001b[0;36m<module>\u001b[0;34m\u001b[0m\n\u001b[0;32m----> 1\u001b[0;31m \u001b[0ma1\u001b[0m\u001b[0;34m+\u001b[0m\u001b[0ma3\u001b[0m\u001b[0;34m\u001b[0m\u001b[0;34m\u001b[0m\u001b[0m\n\u001b[0m",
            "\u001b[0;31mValueError\u001b[0m: operands could not be broadcast together with shapes (4,) (7,) "
          ]
        }
      ]
    },
    {
      "cell_type": "code",
      "source": [
        "a1/a2"
      ],
      "metadata": {
        "colab": {
          "base_uri": "https://localhost:8080/"
        },
        "id": "gMGT62sg8Vu6",
        "outputId": "7ce183a6-647e-43e7-c611-4943489dac5c"
      },
      "execution_count": null,
      "outputs": [
        {
          "output_type": "execute_result",
          "data": {
            "text/plain": [
              "array([0.4       , 0.66666667, 0.42857143, 0.125     ])"
            ]
          },
          "metadata": {},
          "execution_count": 17
        }
      ]
    },
    {
      "cell_type": "code",
      "source": [
        "a1//a2"
      ],
      "metadata": {
        "colab": {
          "base_uri": "https://localhost:8080/"
        },
        "id": "9v58Fc-48-oC",
        "outputId": "21e94b8f-4a54-4fbf-8329-caf1163d3e82"
      },
      "execution_count": null,
      "outputs": [
        {
          "output_type": "execute_result",
          "data": {
            "text/plain": [
              "array([0, 0, 0, 0])"
            ]
          },
          "metadata": {},
          "execution_count": 18
        }
      ]
    },
    {
      "cell_type": "code",
      "source": [
        "a1/np.zeros(4)#here we will not get runtime error we will get only runtime warning"
      ],
      "metadata": {
        "colab": {
          "base_uri": "https://localhost:8080/"
        },
        "id": "WYLcQiE_-hZ3",
        "outputId": "4ae8e1fd-5b70-47a3-bdb2-b6e8d95395ef"
      },
      "execution_count": null,
      "outputs": [
        {
          "output_type": "stream",
          "name": "stderr",
          "text": [
            "<ipython-input-19-6f0b6ee0b805>:1: RuntimeWarning: divide by zero encountered in true_divide\n",
            "  a1/np.zeros(4)\n"
          ]
        },
        {
          "output_type": "execute_result",
          "data": {
            "text/plain": [
              "array([inf, inf, inf, inf])"
            ]
          },
          "metadata": {},
          "execution_count": 19
        }
      ]
    },
    {
      "cell_type": "code",
      "source": [
        "from numpy import random"
      ],
      "metadata": {
        "id": "Gt6r8gM6CmPf"
      },
      "execution_count": null,
      "outputs": []
    },
    {
      "cell_type": "code",
      "source": [
        "#2-D arrays\n",
        "b1=random.randint(5,20,size=(3,3))\n",
        "b2=random.randint(1,10,size=(3,3))\n",
        "b3=np.eye(3)"
      ],
      "metadata": {
        "id": "pDejRmbj--eX"
      },
      "execution_count": null,
      "outputs": []
    },
    {
      "cell_type": "code",
      "source": [
        "print(b1)\n",
        "print(b2)\n",
        "print(b3)"
      ],
      "metadata": {
        "colab": {
          "base_uri": "https://localhost:8080/"
        },
        "id": "tMZ9J9onCiob",
        "outputId": "4347dccd-f60c-4c82-ed8e-3356ffb80db7"
      },
      "execution_count": null,
      "outputs": [
        {
          "output_type": "stream",
          "name": "stdout",
          "text": [
            "[[12 14 10]\n",
            " [13 15 10]\n",
            " [12 19  5]]\n",
            "[[7 4 7]\n",
            " [8 1 9]\n",
            " [6 9 8]]\n",
            "[[1. 0. 0.]\n",
            " [0. 1. 0.]\n",
            " [0. 0. 1.]]\n"
          ]
        }
      ]
    },
    {
      "cell_type": "code",
      "source": [
        "b1+b3"
      ],
      "metadata": {
        "colab": {
          "base_uri": "https://localhost:8080/"
        },
        "id": "OxM9kX5rC68C",
        "outputId": "bbd36c24-6e29-4bf7-ee91-dcb864d36679"
      },
      "execution_count": null,
      "outputs": [
        {
          "output_type": "execute_result",
          "data": {
            "text/plain": [
              "array([[13., 14., 10.],\n",
              "       [13., 16., 10.],\n",
              "       [12., 19.,  6.]])"
            ]
          },
          "metadata": {},
          "execution_count": 25
        }
      ]
    },
    {
      "cell_type": "code",
      "source": [
        "b1/b3"
      ],
      "metadata": {
        "colab": {
          "base_uri": "https://localhost:8080/"
        },
        "id": "o2VyHCigC8Py",
        "outputId": "503110df-f31f-4f2d-bc91-4efcb9e7f881"
      },
      "execution_count": null,
      "outputs": [
        {
          "output_type": "stream",
          "name": "stderr",
          "text": [
            "<ipython-input-26-aa70cb8176f3>:1: RuntimeWarning: divide by zero encountered in true_divide\n",
            "  b1/b3\n"
          ]
        },
        {
          "output_type": "execute_result",
          "data": {
            "text/plain": [
              "array([[12., inf, inf],\n",
              "       [inf, 15., inf],\n",
              "       [inf, inf,  5.]])"
            ]
          },
          "metadata": {},
          "execution_count": 26
        }
      ]
    },
    {
      "cell_type": "code",
      "source": [
        "b1//b3"
      ],
      "metadata": {
        "colab": {
          "base_uri": "https://localhost:8080/"
        },
        "id": "HBVbNlLHDIy6",
        "outputId": "367c38d3-e8e5-405c-ff71-0ee4e3ef776a"
      },
      "execution_count": null,
      "outputs": [
        {
          "output_type": "stream",
          "name": "stderr",
          "text": [
            "<ipython-input-27-5c43eae19345>:1: RuntimeWarning: divide by zero encountered in floor_divide\n",
            "  b1//b3\n"
          ]
        },
        {
          "output_type": "execute_result",
          "data": {
            "text/plain": [
              "array([[12., inf, inf],\n",
              "       [inf, 15., inf],\n",
              "       [inf, inf,  5.]])"
            ]
          },
          "metadata": {},
          "execution_count": 27
        }
      ]
    },
    {
      "cell_type": "code",
      "source": [
        "print(5//2)#here int/int only returns the int as result in integer divison\n",
        "print(5//2.0)\n",
        "print(5.0//2.0)"
      ],
      "metadata": {
        "colab": {
          "base_uri": "https://localhost:8080/"
        },
        "id": "QTX3t3N0DLYi",
        "outputId": "b010c1ec-430d-4789-f387-48368976f411"
      },
      "execution_count": null,
      "outputs": [
        {
          "output_type": "stream",
          "name": "stdout",
          "text": [
            "2\n",
            "2.0\n",
            "2.0\n"
          ]
        }
      ]
    },
    {
      "cell_type": "markdown",
      "source": [
        "**Boolean indexing**"
      ],
      "metadata": {
        "id": "2XFWXJ5TeJy0"
      }
    },
    {
      "cell_type": "code",
      "source": [
        "import numpy as np\n"
      ],
      "metadata": {
        "id": "YoWWVLqYEGHY"
      },
      "execution_count": null,
      "outputs": []
    },
    {
      "cell_type": "code",
      "source": [
        "arr1d=np.random.randint(-10,10,size=8)\n",
        "print(arr1d)"
      ],
      "metadata": {
        "colab": {
          "base_uri": "https://localhost:8080/"
        },
        "id": "v8rEiLKdcj1D",
        "outputId": "ffc46ca2-175c-49f7-f71f-c6bc637c2196"
      },
      "execution_count": null,
      "outputs": [
        {
          "output_type": "stream",
          "name": "stdout",
          "text": [
            "[-8  0  1 -6 -5  9  2 -4]\n"
          ]
        }
      ]
    },
    {
      "cell_type": "code",
      "source": [
        "bool_1d=arr1d>=0\n",
        "print(bool_1d)\n",
        "print(arr1d[bool_1d])"
      ],
      "metadata": {
        "colab": {
          "base_uri": "https://localhost:8080/"
        },
        "id": "k_ga0sJAcw9C",
        "outputId": "929b3d56-a026-466e-8bc7-af8ce9a2c660"
      },
      "execution_count": null,
      "outputs": [
        {
          "output_type": "stream",
          "name": "stdout",
          "text": [
            "[False  True  True False False  True  True False]\n",
            "[0 1 9 2]\n"
          ]
        }
      ]
    },
    {
      "cell_type": "code",
      "source": [
        "arr2d=np.arange(5,21).reshape(4,4)\n",
        "print(arr2d)"
      ],
      "metadata": {
        "colab": {
          "base_uri": "https://localhost:8080/"
        },
        "id": "JbyKqqkhdWZx",
        "outputId": "a7ef20a0-8845-439f-e2b9-228b70b4d477"
      },
      "execution_count": null,
      "outputs": [
        {
          "output_type": "stream",
          "name": "stdout",
          "text": [
            "[[ 5  6  7  8]\n",
            " [ 9 10 11 12]\n",
            " [13 14 15 16]\n",
            " [17 18 19 20]]\n"
          ]
        }
      ]
    },
    {
      "cell_type": "code",
      "source": [
        "bool_2d=arr2d < 13\n",
        "print(bool_2d)"
      ],
      "metadata": {
        "colab": {
          "base_uri": "https://localhost:8080/"
        },
        "id": "v1LskWkudAbx",
        "outputId": "06b67c80-b595-4458-a953-dd6d95900da7"
      },
      "execution_count": null,
      "outputs": [
        {
          "output_type": "stream",
          "name": "stdout",
          "text": [
            "[[ True  True  True  True]\n",
            " [ True  True  True  True]\n",
            " [False False False False]\n",
            " [False False False False]]\n"
          ]
        }
      ]
    },
    {
      "cell_type": "code",
      "source": [
        "print(arr2d[bool_2d])"
      ],
      "metadata": {
        "colab": {
          "base_uri": "https://localhost:8080/"
        },
        "id": "rF837KDkdM0a",
        "outputId": "1f1a71db-f955-4da7-c66f-e66a0a3c8871"
      },
      "execution_count": null,
      "outputs": [
        {
          "output_type": "stream",
          "name": "stdout",
          "text": [
            "[ 5  6  7  8  9 10 11 12]\n"
          ]
        }
      ]
    },
    {
      "cell_type": "markdown",
      "source": [
        "**Fancy Indexing**"
      ],
      "metadata": {
        "id": "rnVHLu8Md84V"
      }
    },
    {
      "cell_type": "code",
      "source": [
        "ar2d=np.arange(10,26).reshape(4,4)"
      ],
      "metadata": {
        "id": "-kgoMaJSdt3r"
      },
      "execution_count": null,
      "outputs": []
    },
    {
      "cell_type": "code",
      "source": [
        "ar2d"
      ],
      "metadata": {
        "colab": {
          "base_uri": "https://localhost:8080/"
        },
        "id": "is_Hhq9c6EVD",
        "outputId": "1a9adfc9-4542-4535-9ce4-fc5d78922ff6"
      },
      "execution_count": null,
      "outputs": [
        {
          "output_type": "execute_result",
          "data": {
            "text/plain": [
              "array([[10, 11, 12, 13],\n",
              "       [14, 15, 16, 17],\n",
              "       [18, 19, 20, 21],\n",
              "       [22, 23, 24, 25]])"
            ]
          },
          "metadata": {},
          "execution_count": 5
        }
      ]
    },
    {
      "cell_type": "code",
      "source": [
        "ar2d[2,3]"
      ],
      "metadata": {
        "colab": {
          "base_uri": "https://localhost:8080/"
        },
        "id": "XXvtgXCrer9y",
        "outputId": "0c05d8e4-578f-46a6-b9f0-a73bc6944451"
      },
      "execution_count": null,
      "outputs": [
        {
          "output_type": "execute_result",
          "data": {
            "text/plain": [
              "21"
            ]
          },
          "metadata": {},
          "execution_count": 14
        }
      ]
    },
    {
      "cell_type": "code",
      "source": [
        "ar2d[[2,3]]"
      ],
      "metadata": {
        "colab": {
          "base_uri": "https://localhost:8080/"
        },
        "id": "i-ZD8mjBfEBA",
        "outputId": "884a5e76-f1d5-4760-fde5-dc6424805116"
      },
      "execution_count": null,
      "outputs": [
        {
          "output_type": "execute_result",
          "data": {
            "text/plain": [
              "array([[18, 19, 20, 21],\n",
              "       [22, 23, 24, 25]])"
            ]
          },
          "metadata": {},
          "execution_count": 15
        }
      ]
    },
    {
      "cell_type": "code",
      "source": [
        "ar2d[[3,1]]"
      ],
      "metadata": {
        "colab": {
          "base_uri": "https://localhost:8080/"
        },
        "id": "Cwgr6rGWfGOJ",
        "outputId": "66437962-87c0-4716-919e-d1ee0e1fc7c8"
      },
      "execution_count": null,
      "outputs": [
        {
          "output_type": "execute_result",
          "data": {
            "text/plain": [
              "array([[22, 23, 24, 25],\n",
              "       [14, 15, 16, 17]])"
            ]
          },
          "metadata": {},
          "execution_count": 16
        }
      ]
    },
    {
      "cell_type": "code",
      "source": [
        "ar2d[[3,3]][:,[2,0]]#combination of slicing and fancy indexing"
      ],
      "metadata": {
        "colab": {
          "base_uri": "https://localhost:8080/"
        },
        "id": "bcPS8nbEfLM5",
        "outputId": "dc9fb22d-590f-42b8-89f5-dbd6b4b5a52c"
      },
      "execution_count": null,
      "outputs": [
        {
          "output_type": "execute_result",
          "data": {
            "text/plain": [
              "array([[24, 22],\n",
              "       [24, 22]])"
            ]
          },
          "metadata": {},
          "execution_count": 17
        }
      ]
    },
    {
      "cell_type": "code",
      "source": [
        "ar2d[[3,1],[2,3]]"
      ],
      "metadata": {
        "colab": {
          "base_uri": "https://localhost:8080/"
        },
        "id": "jE-FMaSsf2zI",
        "outputId": "add176ed-1ceb-41e1-d43f-29889ae58aad"
      },
      "execution_count": null,
      "outputs": [
        {
          "output_type": "execute_result",
          "data": {
            "text/plain": [
              "array([24, 17])"
            ]
          },
          "metadata": {},
          "execution_count": 18
        }
      ]
    },
    {
      "cell_type": "markdown",
      "source": [
        "**Transpose**"
      ],
      "metadata": {
        "id": "kHk6-BMWhhzN"
      }
    },
    {
      "cell_type": "code",
      "source": [
        "ar2d.T"
      ],
      "metadata": {
        "colab": {
          "base_uri": "https://localhost:8080/"
        },
        "id": "vUcqX648gGWo",
        "outputId": "d58ba004-22ad-4f2f-fdcd-0b12d5947cc6"
      },
      "execution_count": null,
      "outputs": [
        {
          "output_type": "execute_result",
          "data": {
            "text/plain": [
              "array([[10, 14, 18, 22],\n",
              "       [11, 15, 19, 23],\n",
              "       [12, 16, 20, 24],\n",
              "       [13, 17, 21, 25]])"
            ]
          },
          "metadata": {},
          "execution_count": 20
        }
      ]
    },
    {
      "cell_type": "code",
      "source": [
        "ar2d.transpose()"
      ],
      "metadata": {
        "colab": {
          "base_uri": "https://localhost:8080/"
        },
        "id": "5kxhvK-ThoRH",
        "outputId": "2bc676ab-2975-4b66-a51d-2a4608e163da"
      },
      "execution_count": null,
      "outputs": [
        {
          "output_type": "execute_result",
          "data": {
            "text/plain": [
              "array([[10, 14, 18, 22],\n",
              "       [11, 15, 19, 23],\n",
              "       [12, 16, 20, 24],\n",
              "       [13, 17, 21, 25]])"
            ]
          },
          "metadata": {},
          "execution_count": 21
        }
      ]
    },
    {
      "cell_type": "code",
      "source": [],
      "metadata": {
        "id": "1FFAs-Hjhvmn"
      },
      "execution_count": null,
      "outputs": []
    }
  ]
}