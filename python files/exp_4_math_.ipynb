{
  "nbformat": 4,
  "nbformat_minor": 0,
  "metadata": {
    "colab": {
      "provenance": []
    },
    "kernelspec": {
      "name": "python3",
      "display_name": "Python 3"
    },
    "language_info": {
      "name": "python"
    }
  },
  "cells": [
    {
      "cell_type": "code",
      "source": [
        "import numpy as np\n",
        "from numpy import random"
      ],
      "metadata": {
        "id": "yJxyjp7DlFKH"
      },
      "execution_count": null,
      "outputs": []
    },
    {
      "cell_type": "code",
      "execution_count": null,
      "metadata": {
        "id": "O0a3osuuij1r"
      },
      "outputs": [],
      "source": [
        "ar1=random.randint(low=1,high=20,size=(4,4))"
      ]
    },
    {
      "cell_type": "code",
      "source": [
        "ar2=random.randint(low=1,high=20,size=(4,4))"
      ],
      "metadata": {
        "id": "lBWWOZsqk5IV"
      },
      "execution_count": null,
      "outputs": []
    },
    {
      "cell_type": "code",
      "source": [
        "ar1"
      ],
      "metadata": {
        "colab": {
          "base_uri": "https://localhost:8080/"
        },
        "id": "cGk5DDDkla-Y",
        "outputId": "91bd7cde-86eb-4060-f2b8-1d44626b07f1"
      },
      "execution_count": null,
      "outputs": [
        {
          "output_type": "execute_result",
          "data": {
            "text/plain": [
              "array([[13,  6,  9,  5],\n",
              "       [ 5, 16, 18, 10],\n",
              "       [14, 13, 17, 15],\n",
              "       [ 6, 14,  5,  7]])"
            ]
          },
          "metadata": {},
          "execution_count": 8
        }
      ]
    },
    {
      "cell_type": "code",
      "source": [
        "ar2"
      ],
      "metadata": {
        "colab": {
          "base_uri": "https://localhost:8080/"
        },
        "id": "SoxnkqWcoaaw",
        "outputId": "e5e0e0e1-e796-4e02-d0a8-df315d9d5da9"
      },
      "execution_count": null,
      "outputs": [
        {
          "output_type": "execute_result",
          "data": {
            "text/plain": [
              "array([[17, 18,  8, 10],\n",
              "       [15, 11, 18, 18],\n",
              "       [ 8,  9,  6, 13],\n",
              "       [16,  1,  8,  8]])"
            ]
          },
          "metadata": {},
          "execution_count": 21
        }
      ]
    },
    {
      "cell_type": "markdown",
      "source": [
        "**sum**"
      ],
      "metadata": {
        "id": "sN2mmBhSlj_y"
      }
    },
    {
      "cell_type": "code",
      "source": [
        "np.sum(ar1)"
      ],
      "metadata": {
        "colab": {
          "base_uri": "https://localhost:8080/"
        },
        "id": "_aBjZqL3lceA",
        "outputId": "342e74e1-ca70-42b7-bd9e-1104f8096d73"
      },
      "execution_count": null,
      "outputs": [
        {
          "output_type": "execute_result",
          "data": {
            "text/plain": [
              "173"
            ]
          },
          "metadata": {},
          "execution_count": 9
        }
      ]
    },
    {
      "cell_type": "code",
      "source": [
        "np.sum(ar1,axis=0)#axis 1 means coloumn wise 13+5+14+6"
      ],
      "metadata": {
        "colab": {
          "base_uri": "https://localhost:8080/"
        },
        "id": "lLFggtwmlhuE",
        "outputId": "b9373eac-8054-45a9-91fa-5dcf4f6e00cf"
      },
      "execution_count": null,
      "outputs": [
        {
          "output_type": "execute_result",
          "data": {
            "text/plain": [
              "array([38, 49, 49, 37])"
            ]
          },
          "metadata": {},
          "execution_count": 11
        }
      ]
    },
    {
      "cell_type": "code",
      "source": [
        "np.sum(ar1,axis=1)# axis 1 means row wise 13+6+9+5"
      ],
      "metadata": {
        "colab": {
          "base_uri": "https://localhost:8080/"
        },
        "id": "neLRmw2ZltqV",
        "outputId": "2ba953d8-e804-4469-e6cc-183811cf6895"
      },
      "execution_count": null,
      "outputs": [
        {
          "output_type": "execute_result",
          "data": {
            "text/plain": [
              "array([33, 49, 59, 32])"
            ]
          },
          "metadata": {},
          "execution_count": 13
        }
      ]
    },
    {
      "cell_type": "code",
      "source": [
        "np.sum(ar1,where = ar1>11)#it will sum numbers greater than 11"
      ],
      "metadata": {
        "colab": {
          "base_uri": "https://localhost:8080/"
        },
        "id": "p5QJDRDnmVjE",
        "outputId": "34af1281-dda6-4d81-9db0-9bb82026ca57"
      },
      "execution_count": null,
      "outputs": [
        {
          "output_type": "execute_result",
          "data": {
            "text/plain": [
              "120"
            ]
          },
          "metadata": {},
          "execution_count": 14
        }
      ]
    },
    {
      "cell_type": "code",
      "source": [
        "np.sum(ar1,axis=0,where=ar1>11)"
      ],
      "metadata": {
        "colab": {
          "base_uri": "https://localhost:8080/"
        },
        "id": "hd3YY9UlmnII",
        "outputId": "275c131b-091f-40f9-9d98-df299d0ab7f0"
      },
      "execution_count": null,
      "outputs": [
        {
          "output_type": "execute_result",
          "data": {
            "text/plain": [
              "array([27, 43, 35, 15])"
            ]
          },
          "metadata": {},
          "execution_count": 15
        }
      ]
    },
    {
      "cell_type": "code",
      "source": [
        "np.sum(ar1,axis=1,where=ar1<11)"
      ],
      "metadata": {
        "colab": {
          "base_uri": "https://localhost:8080/"
        },
        "id": "IV8qeVMPnghs",
        "outputId": "7b19907b-9104-4acf-9165-78bb81a89be2"
      },
      "execution_count": null,
      "outputs": [
        {
          "output_type": "execute_result",
          "data": {
            "text/plain": [
              "array([20, 15,  0, 18])"
            ]
          },
          "metadata": {},
          "execution_count": 16
        }
      ]
    },
    {
      "cell_type": "markdown",
      "source": [
        "**Min & Max**"
      ],
      "metadata": {
        "id": "MTbW1lcWnrSl"
      }
    },
    {
      "cell_type": "code",
      "source": [
        "np.min(ar2)#gives minimum value of array"
      ],
      "metadata": {
        "colab": {
          "base_uri": "https://localhost:8080/"
        },
        "id": "ScMg3EmVnm_7",
        "outputId": "e3538dca-9290-4c2e-f28c-0a593a0a250a"
      },
      "execution_count": null,
      "outputs": [
        {
          "output_type": "execute_result",
          "data": {
            "text/plain": [
              "1"
            ]
          },
          "metadata": {},
          "execution_count": 22
        }
      ]
    },
    {
      "cell_type": "code",
      "source": [
        "np.max(ar2)#gives maximum value of array"
      ],
      "metadata": {
        "colab": {
          "base_uri": "https://localhost:8080/"
        },
        "id": "b4oIkqBan2jz",
        "outputId": "e4fa6732-c508-44d2-ba04-409102492afe"
      },
      "execution_count": null,
      "outputs": [
        {
          "output_type": "execute_result",
          "data": {
            "text/plain": [
              "18"
            ]
          },
          "metadata": {},
          "execution_count": 19
        }
      ]
    },
    {
      "cell_type": "markdown",
      "source": [
        "**argmin() & argmax()**"
      ],
      "metadata": {
        "id": "RCu1DDZRoEUM"
      }
    },
    {
      "cell_type": "code",
      "source": [
        "np.argmin(ar2)#gives index of minimum value of array 0 1 2 3\n",
        "                                                    4 5 6 7"
      ],
      "metadata": {
        "colab": {
          "base_uri": "https://localhost:8080/"
        },
        "id": "fEOE-Hm-oCb2",
        "outputId": "3cff8412-2600-43e0-d196-b42289d1e402"
      },
      "execution_count": null,
      "outputs": [
        {
          "output_type": "execute_result",
          "data": {
            "text/plain": [
              "13"
            ]
          },
          "metadata": {},
          "execution_count": 23
        }
      ]
    },
    {
      "cell_type": "code",
      "source": [
        "np.argmax(ar2)"
      ],
      "metadata": {
        "colab": {
          "base_uri": "https://localhost:8080/"
        },
        "id": "6zhD4y5cn4rr",
        "outputId": "0c2dd58f-23b2-4016-c0f8-44509593117a"
      },
      "execution_count": null,
      "outputs": [
        {
          "output_type": "execute_result",
          "data": {
            "text/plain": [
              "1"
            ]
          },
          "metadata": {},
          "execution_count": 25
        }
      ]
    },
    {
      "cell_type": "markdown",
      "source": [
        "**cumsum**"
      ],
      "metadata": {
        "id": "zjTAXJqaorE0"
      }
    },
    {
      "cell_type": "code",
      "source": [
        "ar1"
      ],
      "metadata": {
        "colab": {
          "base_uri": "https://localhost:8080/"
        },
        "id": "AVCPHkfqpGOT",
        "outputId": "f4a03486-f15d-4fbc-f8ad-33aeb59deef2"
      },
      "execution_count": null,
      "outputs": [
        {
          "output_type": "execute_result",
          "data": {
            "text/plain": [
              "array([[13,  6,  9,  5],\n",
              "       [ 5, 16, 18, 10],\n",
              "       [14, 13, 17, 15],\n",
              "       [ 6, 14,  5,  7]])"
            ]
          },
          "metadata": {},
          "execution_count": 28
        }
      ]
    },
    {
      "cell_type": "code",
      "source": [
        "np.cumsum(ar1)#if no argument pass it will add on by one"
      ],
      "metadata": {
        "colab": {
          "base_uri": "https://localhost:8080/"
        },
        "id": "p2iQGkkjoqIT",
        "outputId": "77b2fd82-4805-4f0c-a174-4b2ca131c345"
      },
      "execution_count": null,
      "outputs": [
        {
          "output_type": "execute_result",
          "data": {
            "text/plain": [
              "array([ 13,  19,  28,  33,  38,  54,  72,  82,  96, 109, 126, 141, 147,\n",
              "       161, 166, 173])"
            ]
          },
          "metadata": {},
          "execution_count": 26
        }
      ]
    },
    {
      "cell_type": "code",
      "source": [
        "np.cumsum(ar1,axis=0)#column wise"
      ],
      "metadata": {
        "colab": {
          "base_uri": "https://localhost:8080/"
        },
        "id": "EmUirwXpo0er",
        "outputId": "2dcac2bf-950c-4096-a2f7-a4693518b99b"
      },
      "execution_count": null,
      "outputs": [
        {
          "output_type": "execute_result",
          "data": {
            "text/plain": [
              "array([[13,  6,  9,  5],\n",
              "       [18, 22, 27, 15],\n",
              "       [32, 35, 44, 30],\n",
              "       [38, 49, 49, 37]])"
            ]
          },
          "metadata": {},
          "execution_count": 27
        }
      ]
    },
    {
      "cell_type": "code",
      "source": [
        "np.cumsum(ar1,axis=1)"
      ],
      "metadata": {
        "colab": {
          "base_uri": "https://localhost:8080/"
        },
        "id": "cntrarTApbRE",
        "outputId": "a4708634-2a18-47f7-d2df-9b5885724a4b"
      },
      "execution_count": null,
      "outputs": [
        {
          "output_type": "execute_result",
          "data": {
            "text/plain": [
              "array([[13, 19, 28, 33],\n",
              "       [ 5, 21, 39, 49],\n",
              "       [14, 27, 44, 59],\n",
              "       [ 6, 20, 25, 32]])"
            ]
          },
          "metadata": {},
          "execution_count": 29
        }
      ]
    },
    {
      "cell_type": "markdown",
      "source": [
        "**Cum prod()**"
      ],
      "metadata": {
        "id": "9y-D-dIQpz_O"
      }
    },
    {
      "cell_type": "code",
      "source": [
        "ar2"
      ],
      "metadata": {
        "colab": {
          "base_uri": "https://localhost:8080/"
        },
        "id": "pJ7tcg38pzMr",
        "outputId": "39f21891-b898-4ed1-f072-4c6ccb715485"
      },
      "execution_count": null,
      "outputs": [
        {
          "output_type": "execute_result",
          "data": {
            "text/plain": [
              "array([[17, 18,  8, 10],\n",
              "       [15, 11, 18, 18],\n",
              "       [ 8,  9,  6, 13],\n",
              "       [16,  1,  8,  8]])"
            ]
          },
          "metadata": {},
          "execution_count": 30
        }
      ]
    },
    {
      "cell_type": "code",
      "source": [
        "np.cumprod(ar2)#ex 17*18=306,306*8=2448 -----"
      ],
      "metadata": {
        "colab": {
          "base_uri": "https://localhost:8080/"
        },
        "id": "r0k4rUC3p6zy",
        "outputId": "7683413e-8846-4fb1-e8d1-0b5525188a44"
      },
      "execution_count": null,
      "outputs": [
        {
          "output_type": "execute_result",
          "data": {
            "text/plain": [
              "array([              17,              306,             2448,\n",
              "                  24480,           367200,          4039200,\n",
              "               72705600,       1308700800,      10469606400,\n",
              "            94226457600,     565358745600,    7349663692800,\n",
              "        117594619084800,  117594619084800,  940756952678400,\n",
              "       7526055621427200])"
            ]
          },
          "metadata": {},
          "execution_count": 31
        }
      ]
    },
    {
      "cell_type": "code",
      "source": [
        "np.cumprod(ar1)"
      ],
      "metadata": {
        "colab": {
          "base_uri": "https://localhost:8080/"
        },
        "id": "g6t7yaNop_Ru",
        "outputId": "266c019c-9755-4177-8e3c-d83bc3698578"
      },
      "execution_count": null,
      "outputs": [
        {
          "output_type": "execute_result",
          "data": {
            "text/plain": [
              "array([              13,               78,              702,\n",
              "                   3510,            17550,           280800,\n",
              "                5054400,         50544000,        707616000,\n",
              "             9199008000,     156383136000,    2345747040000,\n",
              "         14074482240000,  197042751360000,  985213756800000,\n",
              "       6896496297600000])"
            ]
          },
          "metadata": {},
          "execution_count": 32
        }
      ]
    },
    {
      "cell_type": "code",
      "source": [
        "np.cumprod(ar2,axis=0)#column wise"
      ],
      "metadata": {
        "colab": {
          "base_uri": "https://localhost:8080/"
        },
        "id": "4rWVu46xqbeq",
        "outputId": "a637e937-4aa3-4b79-927d-b408f2cb27db"
      },
      "execution_count": null,
      "outputs": [
        {
          "output_type": "execute_result",
          "data": {
            "text/plain": [
              "array([[   17,    18,     8,    10],\n",
              "       [  255,   198,   144,   180],\n",
              "       [ 2040,  1782,   864,  2340],\n",
              "       [32640,  1782,  6912, 18720]])"
            ]
          },
          "metadata": {},
          "execution_count": 33
        }
      ]
    },
    {
      "cell_type": "code",
      "source": [
        "np.cumprod(ar2,axis=1)"
      ],
      "metadata": {
        "colab": {
          "base_uri": "https://localhost:8080/"
        },
        "id": "db9QXJcmqhGC",
        "outputId": "7a0c568f-7b7e-4725-de74-018ee54025b4"
      },
      "execution_count": null,
      "outputs": [
        {
          "output_type": "execute_result",
          "data": {
            "text/plain": [
              "array([[   17,   306,  2448, 24480],\n",
              "       [   15,   165,  2970, 53460],\n",
              "       [    8,    72,   432,  5616],\n",
              "       [   16,    16,   128,  1024]])"
            ]
          },
          "metadata": {},
          "execution_count": 34
        }
      ]
    },
    {
      "cell_type": "code",
      "source": [
        "np.cumprod(ar1,axis=0)"
      ],
      "metadata": {
        "colab": {
          "base_uri": "https://localhost:8080/"
        },
        "id": "HcnOP0AvqqWK",
        "outputId": "a410a4cb-d0ba-4ae2-ec8c-a38af0f92304"
      },
      "execution_count": null,
      "outputs": [
        {
          "output_type": "execute_result",
          "data": {
            "text/plain": [
              "array([[   13,     6,     9,     5],\n",
              "       [   65,    96,   162,    50],\n",
              "       [  910,  1248,  2754,   750],\n",
              "       [ 5460, 17472, 13770,  5250]])"
            ]
          },
          "metadata": {},
          "execution_count": 35
        }
      ]
    },
    {
      "cell_type": "code",
      "source": [
        "np.cumprod(ar1,axis=1)"
      ],
      "metadata": {
        "colab": {
          "base_uri": "https://localhost:8080/"
        },
        "id": "5tVNiNMAqt1K",
        "outputId": "559d3971-329a-4300-963e-20c2b9d77140"
      },
      "execution_count": null,
      "outputs": [
        {
          "output_type": "execute_result",
          "data": {
            "text/plain": [
              "array([[   13,    78,   702,  3510],\n",
              "       [    5,    80,  1440, 14400],\n",
              "       [   14,   182,  3094, 46410],\n",
              "       [    6,    84,   420,  2940]])"
            ]
          },
          "metadata": {},
          "execution_count": 36
        }
      ]
    },
    {
      "cell_type": "markdown",
      "source": [
        "**Mean()**"
      ],
      "metadata": {
        "id": "tjnmjjftq2K0"
      }
    },
    {
      "cell_type": "code",
      "source": [
        "normd=random.randn(3,3)"
      ],
      "metadata": {
        "id": "EnDUzeWEqxUi"
      },
      "execution_count": null,
      "outputs": []
    },
    {
      "cell_type": "code",
      "source": [
        "normd"
      ],
      "metadata": {
        "colab": {
          "base_uri": "https://localhost:8080/"
        },
        "id": "oTB-6zkdrAXR",
        "outputId": "360c4ee0-bb9c-4b6e-fd6d-a15eb74800f1"
      },
      "execution_count": null,
      "outputs": [
        {
          "output_type": "execute_result",
          "data": {
            "text/plain": [
              "array([[-0.02985428,  1.36138865,  0.26841622],\n",
              "       [-1.99537734, -0.04359445,  0.40138637],\n",
              "       [-1.82569189, -1.2872212 , -0.17378574]])"
            ]
          },
          "metadata": {},
          "execution_count": 38
        }
      ]
    },
    {
      "cell_type": "code",
      "source": [
        "np.mean(normd)"
      ],
      "metadata": {
        "colab": {
          "base_uri": "https://localhost:8080/"
        },
        "id": "sFYLLa4orCWZ",
        "outputId": "e2c51527-e155-4378-dd1d-6899d16ad732"
      },
      "execution_count": null,
      "outputs": [
        {
          "output_type": "execute_result",
          "data": {
            "text/plain": [
              "-0.36937040503101704"
            ]
          },
          "metadata": {},
          "execution_count": 39
        }
      ]
    },
    {
      "cell_type": "code",
      "source": [
        "np.mean(normd,axis=0)"
      ],
      "metadata": {
        "colab": {
          "base_uri": "https://localhost:8080/"
        },
        "id": "wDyXjHenrmvJ",
        "outputId": "de4d603d-f23e-4874-a4e9-978c2184d5b9"
      },
      "execution_count": null,
      "outputs": [
        {
          "output_type": "execute_result",
          "data": {
            "text/plain": [
              "array([-1.28364117,  0.010191  ,  0.16533895])"
            ]
          },
          "metadata": {},
          "execution_count": 40
        }
      ]
    },
    {
      "cell_type": "code",
      "source": [
        "np.mean(normd,axis=1)"
      ],
      "metadata": {
        "colab": {
          "base_uri": "https://localhost:8080/"
        },
        "id": "EymoxsWwrqdB",
        "outputId": "a2c3093f-bde3-4257-de92-a18f2c784972"
      },
      "execution_count": null,
      "outputs": [
        {
          "output_type": "execute_result",
          "data": {
            "text/plain": [
              "array([ 0.53331686, -0.5458618 , -1.09556627])"
            ]
          },
          "metadata": {},
          "execution_count": 41
        }
      ]
    },
    {
      "cell_type": "markdown",
      "source": [
        "**std()**"
      ],
      "metadata": {
        "id": "PFhabzeLsZBw"
      }
    },
    {
      "cell_type": "code",
      "source": [
        "np.std(normd)"
      ],
      "metadata": {
        "colab": {
          "base_uri": "https://localhost:8080/"
        },
        "id": "5QemADbcrtZp",
        "outputId": "9a2e6c53-9e59-4501-c2cf-ad78c89373ef"
      },
      "execution_count": null,
      "outputs": [
        {
          "output_type": "execute_result",
          "data": {
            "text/plain": [
              "1.046859861015639"
            ]
          },
          "metadata": {},
          "execution_count": 42
        }
      ]
    },
    {
      "cell_type": "code",
      "source": [
        "np.std(normd,axis=0)"
      ],
      "metadata": {
        "colab": {
          "base_uri": "https://localhost:8080/"
        },
        "id": "nr_OOEQvsfp4",
        "outputId": "b72072ac-6720-407c-91bf-3bcb4ba94134"
      },
      "execution_count": null,
      "outputs": [
        {
          "output_type": "execute_result",
          "data": {
            "text/plain": [
              "array([0.88926354, 1.08195908, 0.24586505])"
            ]
          },
          "metadata": {},
          "execution_count": 43
        }
      ]
    },
    {
      "cell_type": "code",
      "source": [
        "\n",
        "np.std(normd,axis=1)"
      ],
      "metadata": {
        "colab": {
          "base_uri": "https://localhost:8080/"
        },
        "id": "bAe-e3mksiyI",
        "outputId": "67777d82-fd8e-41c5-af42-042df9e54452"
      },
      "execution_count": null,
      "outputs": [
        {
          "output_type": "execute_result",
          "data": {
            "text/plain": [
              "array([0.5980627 , 1.04093658, 0.68786975])"
            ]
          },
          "metadata": {},
          "execution_count": 44
        }
      ]
    },
    {
      "cell_type": "markdown",
      "source": [
        "**Var()**"
      ],
      "metadata": {
        "id": "1jTBdUkFs_QL"
      }
    },
    {
      "cell_type": "code",
      "source": [
        "np.var(normd)"
      ],
      "metadata": {
        "colab": {
          "base_uri": "https://localhost:8080/"
        },
        "id": "qYwPcGvDsnJ4",
        "outputId": "fe37eedd-94b0-49bf-8c40-ec87fb22d937"
      },
      "execution_count": null,
      "outputs": [
        {
          "output_type": "execute_result",
          "data": {
            "text/plain": [
              "1.0959155686056832"
            ]
          },
          "metadata": {},
          "execution_count": 45
        }
      ]
    },
    {
      "cell_type": "code",
      "source": [
        "np.var(normd,axis=0)"
      ],
      "metadata": {
        "colab": {
          "base_uri": "https://localhost:8080/"
        },
        "id": "KgrMDOoMtEDo",
        "outputId": "373446ea-647c-441a-8ff6-570fc3c3ab75"
      },
      "execution_count": null,
      "outputs": [
        {
          "output_type": "execute_result",
          "data": {
            "text/plain": [
              "array([0.79078964, 1.17063546, 0.06044962])"
            ]
          },
          "metadata": {},
          "execution_count": 46
        }
      ]
    },
    {
      "cell_type": "code",
      "source": [
        "np.var(normd,axis=1)"
      ],
      "metadata": {
        "colab": {
          "base_uri": "https://localhost:8080/"
        },
        "id": "bsJOYE79tHCI",
        "outputId": "936aeef8-a18a-4335-87fb-25f68de2646a"
      },
      "execution_count": null,
      "outputs": [
        {
          "output_type": "execute_result",
          "data": {
            "text/plain": [
              "array([0.35767899, 1.08354896, 0.4731648 ])"
            ]
          },
          "metadata": {},
          "execution_count": 47
        }
      ]
    },
    {
      "cell_type": "markdown",
      "source": [
        "***v ***"
      ],
      "metadata": {
        "id": "Ghv9ULG8Inw5"
      }
    },
    {
      "cell_type": "code",
      "source": [],
      "metadata": {
        "id": "RP-6UM5lIlqa"
      },
      "execution_count": null,
      "outputs": []
    },
    {
      "cell_type": "code",
      "source": [
        ""
      ],
      "metadata": {
        "id": "rS8XJGhXtLqg"
      },
      "execution_count": null,
      "outputs": []
    }
  ]
}