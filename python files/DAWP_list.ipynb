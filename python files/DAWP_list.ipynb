{
  "nbformat": 4,
  "nbformat_minor": 0,
  "metadata": {
    "colab": {
      "provenance": []
    },
    "kernelspec": {
      "name": "python3",
      "display_name": "Python 3"
    },
    "language_info": {
      "name": "python"
    }
  },
  "cells": [
    {
      "cell_type": "markdown",
      "source": [
        "**list:\n",
        "  -ordered,collection of similar(or)different data elements\n",
        "  -supports indexing both +ve & -ve\n",
        "  -mutable\n",
        "  -created by using [] & seperated by ','\n",
        "syntax:-\n",
        "   variable=[v1,v2,v3,---vn]**\n",
        "\n"
      ],
      "metadata": {
        "id": "pGVPbe_Jo3Ck"
      }
    },
    {
      "cell_type": "code",
      "execution_count": null,
      "metadata": {
        "id": "NfF4YV5BowSb"
      },
      "outputs": [],
      "source": [
        "even=[2,4,6,8,10]\n",
        "my_list=[1201,'abc','it',True]\n"
      ]
    },
    {
      "cell_type": "code",
      "source": [
        "my_list"
      ],
      "metadata": {
        "id": "eUaBOmClp_ZC",
        "colab": {
          "base_uri": "https://localhost:8080/"
        },
        "outputId": "08400a10-e239-4f8b-8504-a965c4609678"
      },
      "execution_count": null,
      "outputs": [
        {
          "output_type": "execute_result",
          "data": {
            "text/plain": [
              "[1201, 'abc', 'it', True]"
            ]
          },
          "metadata": {},
          "execution_count": 3
        }
      ]
    },
    {
      "cell_type": "code",
      "source": [
        "n=int(input(\"enter the n value\"))\n",
        "for i in range(0,n):\n",
        "  for j in range(0,n):\n",
        "    print(\"*\",end=\" \")\n",
        "  print()"
      ],
      "metadata": {
        "colab": {
          "base_uri": "https://localhost:8080/"
        },
        "id": "3XP4WMQOseIC",
        "outputId": "d4b882ef-4656-4324-f0da-afe73cc5a128"
      },
      "execution_count": null,
      "outputs": [
        {
          "output_type": "stream",
          "name": "stdout",
          "text": [
            "enter the n value9\n",
            "* * * * * * * * * \n",
            "* * * * * * * * * \n",
            "* * * * * * * * * \n",
            "* * * * * * * * * \n",
            "* * * * * * * * * \n",
            "* * * * * * * * * \n",
            "* * * * * * * * * \n",
            "* * * * * * * * * \n",
            "* * * * * * * * * \n"
          ]
        }
      ]
    },
    {
      "cell_type": "code",
      "source": [
        "for i in range(0,n):\n",
        "  for j in range(0,i+1):\n",
        "    print('*',end=\" \")\n",
        "  print()"
      ],
      "metadata": {
        "colab": {
          "base_uri": "https://localhost:8080/"
        },
        "id": "ehKFJm75s0xX",
        "outputId": "009d73a2-a606-41c0-afdf-b61f9f9d0134"
      },
      "execution_count": null,
      "outputs": [
        {
          "output_type": "stream",
          "name": "stdout",
          "text": [
            "* \n",
            "* * \n",
            "* * * \n",
            "* * * * \n",
            "* * * * * \n",
            "* * * * * * \n",
            "* * * * * * * \n",
            "* * * * * * * * \n",
            "* * * * * * * * * \n"
          ]
        }
      ]
    },
    {
      "cell_type": "code",
      "source": [
        "for i in range(0,n):\n",
        "  for j in range(0,n-i):\n",
        "    print(\"*\",end=\" \")\n",
        "  print()"
      ],
      "metadata": {
        "colab": {
          "base_uri": "https://localhost:8080/"
        },
        "id": "KO49Ozd4tPqG",
        "outputId": "011d3bc2-328b-401e-fd4d-144193fd5389"
      },
      "execution_count": null,
      "outputs": [
        {
          "output_type": "stream",
          "name": "stdout",
          "text": [
            "* * * * * * * * * \n",
            "* * * * * * * * \n",
            "* * * * * * * \n",
            "* * * * * * \n",
            "* * * * * \n",
            "* * * * \n",
            "* * * \n",
            "* * \n",
            "* \n"
          ]
        }
      ]
    },
    {
      "cell_type": "code",
      "source": [
        "for i in range(0,n):\n",
        "  for j in range(0,n-i):\n",
        "    print(\" \",end=\" \")\n",
        "  for k in range(0,i+1):\n",
        "    print(\"*\",end=\" \")\n",
        "  print()"
      ],
      "metadata": {
        "colab": {
          "base_uri": "https://localhost:8080/"
        },
        "id": "zqIPf7uFtrHS",
        "outputId": "004cb390-0500-449e-9239-c1dc6184396b"
      },
      "execution_count": null,
      "outputs": [
        {
          "output_type": "stream",
          "name": "stdout",
          "text": [
            "                  * \n",
            "                * * \n",
            "              * * * \n",
            "            * * * * \n",
            "          * * * * * \n",
            "        * * * * * * \n",
            "      * * * * * * * \n",
            "    * * * * * * * * \n",
            "  * * * * * * * * * \n"
          ]
        }
      ]
    },
    {
      "cell_type": "code",
      "source": [
        "a=float(int(input()))\n",
        "print(type(a))\n"
      ],
      "metadata": {
        "colab": {
          "base_uri": "https://localhost:8080/"
        },
        "id": "gNEc28EdufbF",
        "outputId": "eea44430-34b3-4ec5-f622-d9b1dc3ec494"
      },
      "execution_count": null,
      "outputs": [
        {
          "output_type": "stream",
          "name": "stdout",
          "text": [
            "5\n",
            "<class 'float'>\n"
          ]
        }
      ]
    },
    {
      "cell_type": "markdown",
      "source": [
        "**prime numbers\n",
        "**"
      ],
      "metadata": {
        "id": "Lg-UoCQFvRYC"
      }
    },
    {
      "cell_type": "code",
      "source": [
        "n=int(input())\n",
        "for k in range(2,n*n):\n",
        "  count=0\n",
        "  for i in range(1,k+1):\n",
        "    if(k%i==0):\n",
        "      count+=1\n",
        "  if(count==2):\n",
        "    print(k)\n",
        "    j+=1\n",
        "  if(j==n):\n",
        "    break"
      ],
      "metadata": {
        "colab": {
          "base_uri": "https://localhost:8080/"
        },
        "id": "NFH4xwIeu1Ct",
        "outputId": "873caa18-b62e-4df2-d6f9-cc7973207f8c"
      },
      "execution_count": null,
      "outputs": [
        {
          "output_type": "stream",
          "name": "stdout",
          "text": [
            "9\n",
            "2\n",
            "3\n",
            "5\n",
            "7\n",
            "11\n",
            "13\n",
            "17\n",
            "19\n",
            "23\n",
            "29\n",
            "31\n",
            "37\n",
            "41\n",
            "43\n",
            "47\n",
            "53\n",
            "59\n",
            "61\n",
            "67\n",
            "71\n",
            "73\n",
            "79\n"
          ]
        }
      ]
    },
    {
      "cell_type": "code",
      "source": [],
      "metadata": {
        "id": "nVPWbicmv0B1"
      },
      "execution_count": null,
      "outputs": []
    }
  ]
}