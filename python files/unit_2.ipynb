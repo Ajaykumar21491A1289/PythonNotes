{
  "nbformat": 4,
  "nbformat_minor": 0,
  "metadata": {
    "colab": {
      "provenance": []
    },
    "kernelspec": {
      "name": "python3",
      "display_name": "Python 3"
    },
    "language_info": {
      "name": "python"
    }
  },
  "cells": [
    {
      "cell_type": "markdown",
      "source": [
        "**universal functions of numpy**"
      ],
      "metadata": {
        "id": "KBeW7lvIrUvH"
      }
    },
    {
      "cell_type": "code",
      "execution_count": null,
      "metadata": {
        "colab": {
          "base_uri": "https://localhost:8080/"
        },
        "id": "Qivey-Twq-bI",
        "outputId": "77dbb319-d107-4393-9434-eb863a1c17de"
      },
      "outputs": [
        {
          "output_type": "stream",
          "name": "stdout",
          "text": [
            "2.56\n",
            "[2 3 4 5]\n",
            "[2.   3.5  6.   4.56]\n"
          ]
        }
      ],
      "source": [
        "#unary functions\n",
        "#is abs() - returns absolute  value\n",
        "import numpy as np\n",
        "print(np.abs(-2.56))\n",
        "print(np.abs(np.array([2,-3,4,-5])))\n",
        "print(np.abs(np.array([-2,3.5,6,-4.56])))\n"
      ]
    },
    {
      "cell_type": "code",
      "source": [
        "#fabs()-floating point absolute value\n",
        "np.fabs(-4)\n",
        "print(np.fabs(np.array([-3,2,-5,9])))\n",
        "#print(np.fbs([-3.96,-11.5,12.7,-99.99]))\n"
      ],
      "metadata": {
        "colab": {
          "base_uri": "https://localhost:8080/"
        },
        "id": "tLUT581NsFiM",
        "outputId": "8c4229fe-9516-49ae-f450-5b9818822b71"
      },
      "execution_count": null,
      "outputs": [
        {
          "output_type": "stream",
          "name": "stdout",
          "text": [
            "[3. 2. 5. 9.]\n"
          ]
        }
      ]
    },
    {
      "cell_type": "code",
      "source": [
        "x=np.array([1,2,3,5])\n",
        "y=np.array([4,0,6,8])\n",
        "np.divide(x,y)"
      ],
      "metadata": {
        "colab": {
          "base_uri": "https://localhost:8080/"
        },
        "id": "_O-kHwWEtpVB",
        "outputId": "204e60c3-7985-4afe-d0cc-feaf7cb7b7a9"
      },
      "execution_count": null,
      "outputs": [
        {
          "output_type": "stream",
          "name": "stderr",
          "text": [
            "<ipython-input-10-b064ef355305>:3: RuntimeWarning: divide by zero encountered in true_divide\n",
            "  np.divide(x,y)\n"
          ]
        },
        {
          "output_type": "execute_result",
          "data": {
            "text/plain": [
              "array([0.25 ,   inf, 0.5  , 0.625])"
            ]
          },
          "metadata": {},
          "execution_count": 10
        }
      ]
    },
    {
      "cell_type": "code",
      "source": [],
      "metadata": {
        "id": "jrD0l-2juOyj"
      },
      "execution_count": null,
      "outputs": []
    }
  ]
}