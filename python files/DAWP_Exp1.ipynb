{
  "cells": [
    {
      "cell_type": "markdown",
      "metadata": {
        "id": "ncrbYENOzNP3"
      },
      "source": [
        "***Aim: Create a IPython notebookto work with following built-in data structures\n",
        "(a)List (b)Tuple (c) Set (d) Dictionary ***"
      ]
    },
    {
      "cell_type": "markdown",
      "metadata": {
        "id": "YQ5w8LHezlfI"
      },
      "source": []
    },
    {
      "cell_type": "code",
      "execution_count": null,
      "metadata": {
        "colab": {
          "base_uri": "https://localhost:8080/"
        },
        "id": "Fe2YlLawyYE-",
        "outputId": "462ff758-82b6-4c01-e738-0fbdad233103"
      },
      "outputs": [
        {
          "data": {
            "text/plain": [
              "[2, 3, 7, 8, 9, 23, 19, 18, 34, 10]"
            ]
          },
          "execution_count": 14,
          "metadata": {},
          "output_type": "execute_result"
        }
      ],
      "source": [
        "numbers=[2,3,7,8,9,23,19,18,34,10]\n",
        "numbers"
      ]
    },
    {
      "cell_type": "code",
      "execution_count": null,
      "metadata": {
        "colab": {
          "base_uri": "https://localhost:8080/"
        },
        "id": "_yQeHr8q0XV0",
        "outputId": "6cf59fe6-607c-4b38-9efc-efbf8f9f6c21"
      },
      "outputs": [
        {
          "data": {
            "text/plain": [
              "list"
            ]
          },
          "execution_count": 2,
          "metadata": {},
          "output_type": "execute_result"
        }
      ],
      "source": [
        "type(numbers)"
      ]
    },
    {
      "cell_type": "code",
      "execution_count": null,
      "metadata": {
        "colab": {
          "base_uri": "https://localhost:8080/"
        },
        "id": "SuxuxT7T03Q5",
        "outputId": "0f717b18-7c6a-4926-aa6a-365b132a546e"
      },
      "outputs": [
        {
          "data": {
            "text/plain": [
              "['red', 'green', 'blue']"
            ]
          },
          "execution_count": 3,
          "metadata": {},
          "output_type": "execute_result"
        }
      ],
      "source": [
        "colors=['red','green','blue']\n",
        "colors"
      ]
    },
    {
      "cell_type": "code",
      "execution_count": null,
      "metadata": {
        "colab": {
          "base_uri": "https://localhost:8080/"
        },
        "id": "WJClSjyV1CXS",
        "outputId": "73ec14b6-9542-4295-90f9-7f77f1e625e9"
      },
      "outputs": [
        {
          "data": {
            "text/plain": [
              "[11, 12, 13, 14, 15, 16, 17]"
            ]
          },
          "execution_count": 5,
          "metadata": {},
          "output_type": "execute_result"
        }
      ],
      "source": [
        "#List from range()generator\n",
        "a_list=list(range(11,18))\n",
        "a_list"
      ]
    },
    {
      "cell_type": "code",
      "execution_count": null,
      "metadata": {
        "colab": {
          "base_uri": "https://localhost:8080/"
        },
        "id": "5AhPncHw2ATB",
        "outputId": "7b1f30f5-3edb-4205-d663-1c05ad23260d"
      },
      "outputs": [
        {
          "data": {
            "text/plain": [
              "8"
            ]
          },
          "execution_count": 8,
          "metadata": {},
          "output_type": "execute_result"
        }
      ],
      "source": [
        "#Accessing elements\n",
        "numbers[1]\n",
        "numbers[-2]"
      ]
    },
    {
      "cell_type": "code",
      "execution_count": null,
      "metadata": {
        "colab": {
          "background_save": true,
          "base_uri": "https://localhost:8080/"
        },
        "id": "hTRgXWsA3wog",
        "outputId": "c88d2b42-ba1a-4fed-8711-ce6108c30e5a"
      },
      "outputs": [
        {
          "ename": "NameError",
          "evalue": "ignored",
          "output_type": "error",
          "traceback": [
            "\u001b[0;31m---------------------------------------------------------------------------\u001b[0m",
            "\u001b[0;31mNameError\u001b[0m                                 Traceback (most recent call last)",
            "\u001b[0;32m<ipython-input-1-9b94b9b6554e>\u001b[0m in \u001b[0;36m<module>\u001b[0;34m\u001b[0m\n\u001b[1;32m      1\u001b[0m \u001b[0;31m#difference b/w print and with out print\u001b[0m\u001b[0;34m\u001b[0m\u001b[0;34m\u001b[0m\u001b[0m\n\u001b[0;32m----> 2\u001b[0;31m \u001b[0mprint\u001b[0m\u001b[0;34m(\u001b[0m\u001b[0mnumbers\u001b[0m\u001b[0;34m[\u001b[0m\u001b[0;36m1\u001b[0m\u001b[0;34m]\u001b[0m\u001b[0;34m)\u001b[0m\u001b[0;34m\u001b[0m\u001b[0;34m\u001b[0m\u001b[0m\n\u001b[0m\u001b[1;32m      3\u001b[0m \u001b[0mprint\u001b[0m\u001b[0;34m(\u001b[0m\u001b[0mnumbers\u001b[0m\u001b[0;34m[\u001b[0m\u001b[0;34m-\u001b[0m\u001b[0;36m2\u001b[0m\u001b[0;34m]\u001b[0m\u001b[0;34m)\u001b[0m\u001b[0;34m\u001b[0m\u001b[0;34m\u001b[0m\u001b[0m\n\u001b[1;32m      4\u001b[0m \u001b[0mprint\u001b[0m\u001b[0;34m(\u001b[0m\u001b[0mnumbers\u001b[0m\u001b[0;34m)\u001b[0m\u001b[0;34m\u001b[0m\u001b[0;34m\u001b[0m\u001b[0m\n",
            "\u001b[0;31mNameError\u001b[0m: name 'numbers' is not defined"
          ]
        }
      ],
      "source": [
        "#difference b/w print and with out print\n",
        "print(numbers[1])\n",
        "print(numbers[-2])\n",
        "print(numbers)"
      ]
    },
    {
      "cell_type": "code",
      "execution_count": null,
      "metadata": {
        "colab": {
          "base_uri": "https://localhost:8080/"
        },
        "id": "rWD9C2zc4Lzb",
        "outputId": "9e3107a0-1a42-48cb-e4e9-1f7cc2ed9a2f"
      },
      "outputs": [
        {
          "name": "stdout",
          "output_type": "stream",
          "text": [
            "[3, 7, 8]\n",
            "[]\n",
            "[]\n",
            "[3, 7, 8]\n",
            "[]\n",
            "[]\n",
            "[2, 7, 9]\n"
          ]
        }
      ],
      "source": [
        "#Slicing\n",
        "print(numbers[1:4])\n",
        "print(numbers[1:-4])\n",
        "print(numbers[-1:4])\n",
        "print(numbers[-4:-1])\n",
        "print(numbers[9:10])\n",
        "print(numbers[10:9])\n",
        "print(numbers[::2])"
      ]
    },
    {
      "cell_type": "code",
      "execution_count": null,
      "metadata": {
        "colab": {
          "base_uri": "https://localhost:8080/"
        },
        "id": "vAGqrNls4wPR",
        "outputId": "bdfdd9a2-5be6-4ddd-beb9-9c23c3bc0432"
      },
      "outputs": [
        {
          "name": "stdout",
          "output_type": "stream",
          "text": [
            "[7, 8, 9, 23, 19]\n",
            "[]\n",
            "[]\n",
            "[3, 7, 8, 9, 23]\n"
          ]
        }
      ],
      "source": [
        "print(numbers[2:-3])\n",
        "print(numbers[6:-9])\n",
        "print(numbers[-3:2])\n",
        "print(numbers[-9:6])"
      ]
    },
    {
      "cell_type": "markdown",
      "metadata": {
        "id": "QOKig8kp8aLd"
      },
      "source": [
        "**Adding and removing elements in lit**"
      ]
    },
    {
      "cell_type": "code",
      "execution_count": null,
      "metadata": {
        "colab": {
          "base_uri": "https://localhost:8080/"
        },
        "id": "fngC3K8u8OiM",
        "outputId": "0d87f871-1308-44d5-aa0b-13a4eb9481b1"
      },
      "outputs": [
        {
          "data": {
            "text/plain": [
              "['red', 'green', 'blue']"
            ]
          },
          "execution_count": 16,
          "metadata": {},
          "output_type": "execute_result"
        }
      ],
      "source": [
        "colors"
      ]
    },
    {
      "cell_type": "code",
      "execution_count": null,
      "metadata": {
        "colab": {
          "base_uri": "https://localhost:8080/"
        },
        "id": "gjkILbdE8pxL",
        "outputId": "7df5df8d-c1d8-482e-bc6b-3597e8c17642"
      },
      "outputs": [
        {
          "data": {
            "text/plain": [
              "['red', 'green', 'blue', 'yellow', 'yellow']"
            ]
          },
          "execution_count": 18,
          "metadata": {},
          "output_type": "execute_result"
        }
      ],
      "source": [
        "colors.append(\"yellow\")\n",
        "colors"
      ]
    },
    {
      "cell_type": "code",
      "execution_count": null,
      "metadata": {
        "colab": {
          "base_uri": "https://localhost:8080/"
        },
        "id": "DE5er99r81TL",
        "outputId": "aede8369-d9a6-485d-a7e5-7777f91e7470"
      },
      "outputs": [
        {
          "data": {
            "text/plain": [
              "['red', 'green', 'black', 'blue', 'yellow', 'yellow']"
            ]
          },
          "execution_count": 19,
          "metadata": {},
          "output_type": "execute_result"
        }
      ],
      "source": [
        "colors.insert(2,'black')\n",
        "colors"
      ]
    },
    {
      "cell_type": "code",
      "execution_count": null,
      "metadata": {
        "colab": {
          "base_uri": "https://localhost:8080/"
        },
        "id": "D7ifTMLD8_l7",
        "outputId": "62de698e-fdbe-4434-9668-6117b9aae2bf"
      },
      "outputs": [
        {
          "data": {
            "text/plain": [
              "['red', 'green', 'blue', 'yellow', 'yellow']"
            ]
          },
          "execution_count": 20,
          "metadata": {},
          "output_type": "execute_result"
        }
      ],
      "source": [
        "colors.remove('black')\n",
        "colors"
      ]
    },
    {
      "cell_type": "code",
      "execution_count": null,
      "metadata": {
        "colab": {
          "base_uri": "https://localhost:8080/",
          "height": 35
        },
        "id": "xnV8PVpx9OpX",
        "outputId": "a720105f-ce14-477b-ebf3-83c9886caeee"
      },
      "outputs": [
        {
          "data": {
            "application/vnd.google.colaboratory.intrinsic+json": {
              "type": "string"
            },
            "text/plain": [
              "'yellow'"
            ]
          },
          "execution_count": 21,
          "metadata": {},
          "output_type": "execute_result"
        }
      ],
      "source": [
        "colors.pop()"
      ]
    },
    {
      "cell_type": "code",
      "execution_count": null,
      "metadata": {
        "colab": {
          "base_uri": "https://localhost:8080/",
          "height": 35
        },
        "id": "EjyMhG2C9kk4",
        "outputId": "3fc52ab1-112c-4e4b-d9fb-516cf1b7a000"
      },
      "outputs": [
        {
          "data": {
            "application/vnd.google.colaboratory.intrinsic+json": {
              "type": "string"
            },
            "text/plain": [
              "'blue'"
            ]
          },
          "execution_count": 22,
          "metadata": {},
          "output_type": "execute_result"
        }
      ],
      "source": [
        "colors.pop(2)"
      ]
    },
    {
      "cell_type": "code",
      "execution_count": null,
      "metadata": {
        "colab": {
          "base_uri": "https://localhost:8080/"
        },
        "id": "HeVy0nHp91US",
        "outputId": "565faa06-10eb-4b01-836c-9b45e2b2eba1"
      },
      "outputs": [
        {
          "data": {
            "text/plain": [
              "['red', 'green']"
            ]
          },
          "execution_count": 24,
          "metadata": {},
          "output_type": "execute_result"
        }
      ],
      "source": [
        "colors.pop()\n",
        "colors"
      ]
    },
    {
      "cell_type": "markdown",
      "metadata": {
        "id": "IIMwvd54-s_c"
      },
      "source": [
        "**Concatenation and combining list**\n",
        ""
      ]
    },
    {
      "cell_type": "code",
      "execution_count": null,
      "metadata": {
        "id": "J5NSVcwN-iNw"
      },
      "outputs": [],
      "source": [
        "a_list=[2,4,6,8]\n",
        "b_list=[1,3,5,7]\n"
      ]
    },
    {
      "cell_type": "markdown",
      "metadata": {
        "id": "xK2nKkWo_O09"
      },
      "source": [
        "**sorting a list**"
      ]
    },
    {
      "cell_type": "code",
      "execution_count": null,
      "metadata": {
        "colab": {
          "base_uri": "https://localhost:8080/"
        },
        "id": "cLVuw4ax_Rio",
        "outputId": "5331e98d-0f78-43cb-9995-f8c046598144"
      },
      "outputs": [
        {
          "data": {
            "text/plain": [
              "[1, 2, 3, 4, 6, 7, 67]"
            ]
          },
          "execution_count": 26,
          "metadata": {},
          "output_type": "execute_result"
        }
      ],
      "source": [
        "a=[1,4,6,2,3,67,7]\n",
        "a.sort()\n",
        "a"
      ]
    },
    {
      "cell_type": "code",
      "execution_count": null,
      "metadata": {
        "colab": {
          "base_uri": "https://localhost:8080/"
        },
        "id": "BoVoyvKf_Zub",
        "outputId": "214c3d29-2d4b-4731-e5e9-b65261cb1ae7"
      },
      "outputs": [
        {
          "data": {
            "text/plain": [
              "['he', 'saw', 'six', 'small', 'foxes']"
            ]
          },
          "execution_count": 27,
          "metadata": {},
          "output_type": "execute_result"
        }
      ],
      "source": [
        "b=['saw','small','he','foxes','six']#if same length occurs it will check for first occurence\n",
        "b.sort(key=len)#it find out length of each element now length of b=[3,5,2,5,3]\n",
        "b"
      ]
    },
    {
      "cell_type": "markdown",
      "metadata": {
        "id": "MLTIPseRAZGD"
      },
      "source": [
        "**tuples**"
      ]
    },
    {
      "cell_type": "code",
      "execution_count": null,
      "metadata": {
        "colab": {
          "base_uri": "https://localhost:8080/"
        },
        "id": "SGUshCdg_6PB",
        "outputId": "1872ea8f-3633-474b-bce7-11ab2dc08ad4"
      },
      "outputs": [
        {
          "name": "stdout",
          "output_type": "stream",
          "text": [
            "(4, 5, 6, 8, 9)\n"
          ]
        }
      ],
      "source": [
        "tup1=(4,5,6,8,9)\n",
        "print(tup1)\n"
      ]
    },
    {
      "cell_type": "markdown",
      "metadata": {
        "id": "icP4uc1nB2p5"
      },
      "source": [
        "**sets**"
      ]
    },
    {
      "cell_type": "code",
      "execution_count": null,
      "metadata": {
        "colab": {
          "base_uri": "https://localhost:8080/"
        },
        "id": "r-bHoOPVAi0R",
        "outputId": "7b3b0ef7-5cab-4633-dca2-957488bfe88a"
      },
      "outputs": [
        {
          "data": {
            "text/plain": [
              "{1, 2, 3, 4, 5, 6}"
            ]
          },
          "execution_count": 31,
          "metadata": {},
          "output_type": "execute_result"
        }
      ],
      "source": [
        "s1={3,4,5,6}\n",
        "s2={5,4,3,2,1}\n",
        "s1.union(s2)"
      ]
    },
    {
      "cell_type": "code",
      "execution_count": null,
      "metadata": {
        "colab": {
          "base_uri": "https://localhost:8080/"
        },
        "id": "6GyuRHjKBrwf",
        "outputId": "97392278-9e37-40e1-9aeb-a32c7547c888"
      },
      "outputs": [
        {
          "data": {
            "text/plain": [
              "{3, 4, 5}"
            ]
          },
          "execution_count": 32,
          "metadata": {},
          "output_type": "execute_result"
        }
      ],
      "source": [
        "s1.intersection(s2)"
      ]
    },
    {
      "cell_type": "code",
      "execution_count": null,
      "metadata": {
        "colab": {
          "base_uri": "https://localhost:8080/"
        },
        "id": "vC8HcVR4Bv1n",
        "outputId": "a2d8f525-37e4-4728-efa7-071de23921a2"
      },
      "outputs": [
        {
          "data": {
            "text/plain": [
              "{6}"
            ]
          },
          "execution_count": 34,
          "metadata": {},
          "output_type": "execute_result"
        }
      ],
      "source": [
        "s1.difference(s2)"
      ]
    },
    {
      "cell_type": "code",
      "execution_count": null,
      "metadata": {
        "colab": {
          "base_uri": "https://localhost:8080/"
        },
        "id": "WU-oENs_B90H",
        "outputId": "1948972e-f86e-4dff-a96b-9bf28f6c4129"
      },
      "outputs": [
        {
          "data": {
            "text/plain": [
              "{1, 2, 6}"
            ]
          },
          "execution_count": 35,
          "metadata": {},
          "output_type": "execute_result"
        }
      ],
      "source": [
        "s1.symmetric_difference(s2)"
      ]
    },
    {
      "cell_type": "markdown",
      "metadata": {
        "id": "lTTztYFBC5zK"
      },
      "source": [
        "**Dictionary**"
      ]
    },
    {
      "cell_type": "code",
      "execution_count": null,
      "metadata": {
        "colab": {
          "base_uri": "https://localhost:8080/"
        },
        "id": "AoAJ8qrJCuGh",
        "outputId": "49f8ecd2-2b7d-4f6b-bfb0-7cb1f6a7c541"
      },
      "outputs": [
        {
          "name": "stdout",
          "output_type": "stream",
          "text": [
            "{'name': 'ajay kumar', 'roll_no': 21491289}\n",
            "dict_keys(['name', 'roll_no'])\n",
            "dict_values(['ajay kumar', 21491289])\n",
            "dict_items([('name', 'ajay kumar'), ('roll_no', 21491289)])\n",
            "ajay kumar\n",
            "{'name': 'ajay kumar', 'roll_no': 21491289, 'year': 2, 'branch': 'it'}\n"
          ]
        }
      ],
      "source": [
        "myd={'name':'ajay kumar','roll_no':21491289}\n",
        "print(myd)\n",
        "print(myd.keys())\n",
        "print(myd.values())\n",
        "print(myd.items())\n",
        "print(myd['name'])\n",
        "myd['year']=1\n",
        "myd.update({'branch':'it','year':2})\n",
        "print(myd)"
      ]
    },
    {
      "cell_type": "code",
      "execution_count": null,
      "metadata": {
        "id": "pUQ3QSCfDuXu"
      },
      "outputs": [],
      "source": []
    }
  ],
  "metadata": {
    "colab": {
      "provenance": []
    },
    "kernelspec": {
      "display_name": "Python 3",
      "name": "python3"
    },
    "language_info": {
      "name": "python"
    }
  },
  "nbformat": 4,
  "nbformat_minor": 0
}