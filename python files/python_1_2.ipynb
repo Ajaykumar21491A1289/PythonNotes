{
  "nbformat": 4,
  "nbformat_minor": 0,
  "metadata": {
    "colab": {
      "provenance": [],
      "collapsed_sections": [
        "Sl0HdK662ELw",
        "wheKncT-5bPA",
        "c6JliBe-1x0E",
        "m7DfwDtldgte",
        "XpRSgdx3z2ja",
        "ujee64WozptH",
        "r680oNy6zNpb",
        "Gg1PShlVzhyg",
        "VBcYAQAc4g5I",
        "nskjFX8k6kH9",
        "kOj1D2nm9U4y",
        "d-oEjjXJ_rAa",
        "x9139YtBDG1d",
        "zGTfCTTDLTb0",
        "FQPXNpLiPTBx",
        "CWybpsjUP5Jv",
        "0dSY971mV6n5",
        "XADFrHt_Yk71",
        "wKKIJ1bidkIB"
      ]
    },
    "kernelspec": {
      "name": "python3",
      "display_name": "Python 3"
    },
    "language_info": {
      "name": "python"
    }
  },
  "cells": [
    {
      "cell_type": "markdown",
      "source": [
        "# dictionaries"
      ],
      "metadata": {
        "id": "_60JLO7f9nEf"
      }
    },
    {
      "cell_type": "markdown",
      "source": [
        "# adding key and replacing key in dictionary\n"
      ],
      "metadata": {
        "id": "zLolarApDUTQ"
      }
    },
    {
      "cell_type": "code",
      "execution_count": null,
      "metadata": {
        "colab": {
          "base_uri": "https://localhost:8080/"
        },
        "id": "nbNPFr8V9j9r",
        "outputId": "b6c91eb0-3238-443d-d419-8f6ac56e6eba"
      },
      "outputs": [
        {
          "output_type": "stream",
          "name": "stdout",
          "text": [
            "{'name': 'raju', 'rln': 26}\n",
            "{'name': 'raju', 'rln': 26, 'section': 'a'}\n",
            "{'name': 'raju', 'rln': 63, 'section': 'a'}\n"
          ]
        }
      ],
      "source": [
        "d={'name':'raju','rln':26}\n",
        "print(d)\n",
        "d['section']='a'\n",
        "print(d)\n",
        "d['rln']=63\n",
        "print(d)"
      ]
    },
    {
      "cell_type": "markdown",
      "source": [
        "# deleting or clear the elements in dictionary"
      ],
      "metadata": {
        "id": "_tr6DQJsDfGx"
      }
    },
    {
      "cell_type": "code",
      "source": [
        "d={'ajay':2,'vijay':3,'konda':5}\n",
        "c\n",
        "#del(d)\n",
        "#print(d)\n",
        "\n",
        "del(d['ajay'])\n",
        "print(d)\n",
        "d.clear()\n",
        "print(d)"
      ],
      "metadata": {
        "colab": {
          "base_uri": "https://localhost:8080/",
          "height": 235
        },
        "id": "iEJUsjnl-Q4-",
        "outputId": "f42dc2cc-54f0-4315-b923-8dd0f5514097"
      },
      "execution_count": null,
      "outputs": [
        {
          "output_type": "error",
          "ename": "NameError",
          "evalue": "ignored",
          "traceback": [
            "\u001b[0;31m---------------------------------------------------------------------------\u001b[0m",
            "\u001b[0;31mNameError\u001b[0m                                 Traceback (most recent call last)",
            "\u001b[0;32m<ipython-input-2-7dc0f08b419c>\u001b[0m in \u001b[0;36m<module>\u001b[0;34m()\u001b[0m\n\u001b[1;32m      1\u001b[0m \u001b[0md\u001b[0m\u001b[0;34m=\u001b[0m\u001b[0;34m{\u001b[0m\u001b[0;34m'ajay'\u001b[0m\u001b[0;34m:\u001b[0m\u001b[0;36m2\u001b[0m\u001b[0;34m,\u001b[0m\u001b[0;34m'vijay'\u001b[0m\u001b[0;34m:\u001b[0m\u001b[0;36m3\u001b[0m\u001b[0;34m,\u001b[0m\u001b[0;34m'konda'\u001b[0m\u001b[0;34m:\u001b[0m\u001b[0;36m5\u001b[0m\u001b[0;34m}\u001b[0m\u001b[0;34m\u001b[0m\u001b[0;34m\u001b[0m\u001b[0m\n\u001b[0;32m----> 2\u001b[0;31m \u001b[0mc\u001b[0m\u001b[0;34m\u001b[0m\u001b[0;34m\u001b[0m\u001b[0m\n\u001b[0m\u001b[1;32m      3\u001b[0m \u001b[0;31m#del(d)\u001b[0m\u001b[0;34m\u001b[0m\u001b[0;34m\u001b[0m\u001b[0;34m\u001b[0m\u001b[0m\n\u001b[1;32m      4\u001b[0m \u001b[0;31m#print(d)\u001b[0m\u001b[0;34m\u001b[0m\u001b[0;34m\u001b[0m\u001b[0;34m\u001b[0m\u001b[0m\n\u001b[1;32m      5\u001b[0m \u001b[0;34m\u001b[0m\u001b[0m\n",
            "\u001b[0;31mNameError\u001b[0m: name 'c' is not defined"
          ]
        }
      ]
    },
    {
      "cell_type": "markdown",
      "source": [
        "# deleting items using pop function in dictionaries"
      ],
      "metadata": {
        "id": "PqVFK2djGAR3"
      }
    },
    {
      "cell_type": "code",
      "source": [
        "d={'ajay':2,'vijay':3,'konda':5}\n",
        "print(d)\n",
        "print(d.pop('vijay'))\n",
        "print(d)\n",
        "print(d.pop('nam',-1))\n",
        "#print(d.pop('nam'))"
      ],
      "metadata": {
        "id": "iyfdBwlcCSlV"
      },
      "execution_count": null,
      "outputs": []
    },
    {
      "cell_type": "markdown",
      "source": [
        "# sorting items by using keys(),values(),items() in dictionaries"
      ],
      "metadata": {
        "id": "eFhdHJ3bIJaV"
      }
    },
    {
      "cell_type": "code",
      "source": [
        "dict={'roll_no':'16/001','name':'ajay','course':'btech'}\n",
        "print(sorted(dict.keys()))\n",
        "print(sorted(dict.values()))\n",
        "print(sorted(dict.items()))"
      ],
      "metadata": {
        "id": "xf4BL7VWGKRF"
      },
      "execution_count": null,
      "outputs": []
    },
    {
      "cell_type": "code",
      "source": [
        "d={'name':'ajay','roll_no':213,'sec':'it'}\n",
        "print(len(d))\n",
        "print(str(d))\n",
        "print(d.clear())\n",
        "d.copy()"
      ],
      "metadata": {
        "id": "qXEKMJWtIcUb"
      },
      "execution_count": null,
      "outputs": []
    },
    {
      "cell_type": "markdown",
      "source": [
        "# the above two programs are related to the difference between assignment and copy operator"
      ],
      "metadata": {
        "id": "AIzylmFQSmqH"
      }
    },
    {
      "cell_type": "code",
      "source": [
        "d={'name':'ajay','roll_no':213,'sec':'it'}\n",
        "c=d\n",
        "print(d,id(d))\n",
        "print(c,id(c))\n",
        "del c['name']\n",
        "print(d,id(d))\n",
        "print(c,id(c))"
      ],
      "metadata": {
        "id": "eEbMjvrgR-8J"
      },
      "execution_count": null,
      "outputs": []
    },
    {
      "cell_type": "code",
      "source": [
        "d={'name':'ajay','roll_no':213,'sec':'it'}\n",
        "c=d.copy()\n",
        "print(d,id(d))\n",
        "print(c,id(c))\n",
        "del c['name']\n",
        "print(d,id(d))\n",
        "print(c,id(c))"
      ],
      "metadata": {
        "id": "6nDifV66SbcJ"
      },
      "execution_count": null,
      "outputs": []
    },
    {
      "cell_type": "code",
      "source": [
        "subject=['csa','c++','os','ds']\n",
        "marks=dict.fromkeys(subject,-1)\n",
        "print(marks)"
      ],
      "metadata": {
        "id": "kWGpe-vnSxFZ"
      },
      "execution_count": null,
      "outputs": []
    },
    {
      "cell_type": "code",
      "source": [
        "d={'name':'ajay','roll_no':213,'sec':'it'}\n",
        "print(d.get('name'))"
      ],
      "metadata": {
        "id": "RnCFJDlKW6Or"
      },
      "execution_count": null,
      "outputs": []
    },
    {
      "cell_type": "code",
      "source": [
        "d={'name':'ajay','roll_no':213,'sec':'it'}\n",
        "print(len(d))\n",
        "print(max(d))\n",
        "print(min(d))\n",
        "print(sorted(d))\n",
        "#print(sum(d))\n",
        "print(any(d))\n",
        "print(all(d))\n",
        "#print(reversed(d))"
      ],
      "metadata": {
        "id": "P1fvNWNsY0I4"
      },
      "execution_count": null,
      "outputs": []
    },
    {
      "cell_type": "code",
      "source": [
        "s=input(\"enter the string value\")\n",
        "\n",
        "for i in s:\n",
        "      if i not in d:\n",
        "          d[i]=1\n",
        "      else:\n",
        "          d[i]+=1\n",
        "print(d)"
      ],
      "metadata": {
        "id": "f2WLAogQcuY3"
      },
      "execution_count": null,
      "outputs": []
    },
    {
      "cell_type": "markdown",
      "source": [
        "# lab program"
      ],
      "metadata": {
        "id": "Sl0HdK662ELw"
      }
    },
    {
      "cell_type": "markdown",
      "source": [],
      "metadata": {
        "id": "OKxgqQgl9ljx"
      }
    },
    {
      "cell_type": "code",
      "source": [
        "dt2={}\n",
        "tnid=int(input(\"enter tnid\"))\n",
        "for i in range(tnid):\n",
        "    key=input(\"enter key\")\n",
        "    value=input(\"enter value\")\n",
        "    dt2[key]=value\n",
        "print(dt2)\n",
        "srch=input(\"enter key to be search\")\n",
        "for i in dt2:\n",
        "    if i==srch:\n",
        "        dob=dt2[i]\n",
        "        s=dob.split('/')\n",
        "        j='-'.join(s)\n",
        "        print(j)\n",
        "    else:\n",
        "        print(\"value not found\")"
      ],
      "metadata": {
        "id": "uzONjr90ezN2"
      },
      "execution_count": null,
      "outputs": []
    },
    {
      "cell_type": "code",
      "source": [
        "dt2={}\n",
        "tnid=int(input(\"enter tnid\"))\n",
        "for i in range(tnid):\n",
        "    key=input(\"enter key\")\n",
        "    value=input(\"enter value\")\n",
        "    dt2[key]=value\n",
        "print(dt2)\n",
        "for i in dt22:\n",
        "    print(dt2[i])"
      ],
      "metadata": {
        "id": "WPPCTD4XlK1A"
      },
      "execution_count": null,
      "outputs": []
    },
    {
      "cell_type": "markdown",
      "source": [
        "# condition for prime and fibonacci"
      ],
      "metadata": {
        "id": "wheKncT-5bPA"
      }
    },
    {
      "cell_type": "code",
      "source": [
        "a=int(input())\n",
        "b=int(input())\n",
        "count=0\n",
        "if a<b:\n",
        "   print(\"b is bigger:\",b)\n",
        "if (a<b):\n",
        "        if b%2==0:\n",
        "          print(\"it is a prime number\")\n",
        "        else:\n",
        "          print(\"it is not a prime\")\n",
        "else:\n",
        "          fst=0\n",
        "          snd=1\n",
        "          if b==1:\n",
        "              print(\"fibonacci sequence of\",n,'terms is',fst)\n",
        "          elif  b==2:\n",
        "              print('fibonacci sequence of',n,'terms is',fst,snd,end=\"\")\n",
        "              cnt=2\n",
        "          while(cnt<b):\n",
        "               nxt=fst+snd\n",
        "               print(nxt,end=\"\")\n",
        "               fst=snd\n",
        "               snd=nxt\n",
        "               cnt=cnt+1"
      ],
      "metadata": {
        "id": "sPpdeXhPm5Wn"
      },
      "execution_count": null,
      "outputs": []
    },
    {
      "cell_type": "markdown",
      "source": [
        "# lab program"
      ],
      "metadata": {
        "id": "c6JliBe-1x0E"
      }
    },
    {
      "cell_type": "code",
      "source": [
        "l1=[]\n",
        "l2=[]\n",
        "t=int(input(\"enter number in list1\"))\n",
        "for i in range(t):\n",
        "      num=int(input(\"enter a value\"))\n",
        "      l1.append(num)\n",
        "print(l1)\n",
        "t2=int(input(\"enter number in list2\"))\n",
        "for i in range(t2):\n",
        "      num2=int(input(\"enter a value\"))\n",
        "      l2.append(num2)\n",
        "print(l2)\n",
        "dt=dict(zip(l1,l2))\n",
        "print(dt)"
      ],
      "metadata": {
        "id": "T4HEJJQVuVwK"
      },
      "execution_count": null,
      "outputs": []
    },
    {
      "cell_type": "markdown",
      "source": [
        "\n"
      ],
      "metadata": {
        "id": "zgQlszeEdVP2"
      }
    },
    {
      "cell_type": "markdown",
      "source": [
        "# functions\n",
        "\n"
      ],
      "metadata": {
        "id": "m7DfwDtldgte"
      }
    },
    {
      "cell_type": "markdown",
      "source": [
        "# function with out arguments and return value"
      ],
      "metadata": {
        "id": "XpRSgdx3z2ja"
      }
    },
    {
      "cell_type": "code",
      "source": [
        "def func():\n",
        "       for i in range(4):\n",
        "              print(\"hello world\")\n",
        "func()\n",
        ""
      ],
      "metadata": {
        "id": "e4ytcoVcdscO"
      },
      "execution_count": null,
      "outputs": []
    },
    {
      "cell_type": "markdown",
      "source": [
        "# function with arguments with out return type"
      ],
      "metadata": {
        "id": "ujee64WozptH"
      }
    },
    {
      "cell_type": "code",
      "source": [
        "def sum(x,y):\n",
        "          print(\"the sum is\",x+y)\n",
        "\n",
        "a=int(input(\"enter value\"))\n",
        "b=int(input(\"enter value\"))\n",
        "sum(a,b)"
      ],
      "metadata": {
        "id": "rC90NwV0gVZz"
      },
      "execution_count": null,
      "outputs": []
    },
    {
      "cell_type": "markdown",
      "source": [
        "# diffference b/w local&global variable\n",
        "# sum of 2numbers"
      ],
      "metadata": {
        "id": "r680oNy6zNpb"
      }
    },
    {
      "cell_type": "code",
      "source": [
        "a=int(input(\"enter value\"))\n",
        "b=int(input(\"enter value\"))\n",
        "def sum():\n",
        "          z=2\n",
        "          print(\"the sum is\",a+b)\n",
        "#print(z)   #here z is a local variable so we can not print the value\n",
        "sum()   5\n",
        "#print(z)"
      ],
      "metadata": {
        "id": "vN7oyk_Sqr0f"
      },
      "execution_count": null,
      "outputs": []
    },
    {
      "cell_type": "markdown",
      "source": [
        "# function with argument and with return value\n",
        "# cube of a number"
      ],
      "metadata": {
        "id": "Gg1PShlVzhyg"
      }
    },
    {
      "cell_type": "code",
      "source": [
        "def cb(n):\n",
        "      return n*n*n\n",
        "num=int(input(\"enter number\"))\n",
        "c=cb(num)\n",
        "print(c)"
      ],
      "metadata": {
        "id": "A7wUGd5-vCh_"
      },
      "execution_count": null,
      "outputs": []
    },
    {
      "cell_type": "markdown",
      "source": [
        "#positional order"
      ],
      "metadata": {
        "id": "VBcYAQAc4g5I"
      }
    },
    {
      "cell_type": "code",
      "source": [
        "def details(nm,rnk):\n",
        "      print(nm.upper(),rnk)\n",
        "n='raju'\n",
        "r=1122\n",
        "details(n,r)"
      ],
      "metadata": {
        "id": "9m8Ug9Ep25xQ"
      },
      "execution_count": null,
      "outputs": []
    },
    {
      "cell_type": "code",
      "source": [
        "def details(rnk,nm):\n",
        "      print(nm.upper(),rnk)\n",
        "n='raju'\n",
        "r=1122\n",
        "details(n,r)"
      ],
      "metadata": {
        "id": "_F2Mb7c14sVP"
      },
      "execution_count": null,
      "outputs": []
    },
    {
      "cell_type": "markdown",
      "source": [
        "# keyword arguments"
      ],
      "metadata": {
        "id": "nskjFX8k6kH9"
      }
    },
    {
      "cell_type": "code",
      "source": [
        "def details(rnk,nm):\n",
        "       print(nm.upper(),rnk)\n",
        "details(nm='raju',rnk=1122)"
      ],
      "metadata": {
        "id": "LcjADeVz5Azf"
      },
      "execution_count": null,
      "outputs": []
    },
    {
      "cell_type": "code",
      "source": [
        "def kw_ar(iv,fv,sv):\n",
        "       print(iv,fv,sv)\n",
        "kw_ar(fv=25.45,iv=1122,sv='python')\n",
        "kw_ar(sv=25.45,iv=1122,fv='python')\n",
        "#kw_ar(s='python',i=1122,f=12)    #at this line it shows a error"
      ],
      "metadata": {
        "id": "ERBONbZg7hRc"
      },
      "execution_count": null,
      "outputs": []
    },
    {
      "cell_type": "markdown",
      "source": [
        "#variable-length arguments"
      ],
      "metadata": {
        "id": "kOj1D2nm9U4y"
      }
    },
    {
      "cell_type": "code",
      "source": [
        "def vlp_ar(*args):\n",
        "     print()\n",
        "     for var in args:\n",
        "         print(var,end=' ')\n",
        "vlp_ar(1122)\n",
        "vlp_ar(1122,12.34)\n",
        "vlp_ar(1122,12.23,'python')\n"
      ],
      "metadata": {
        "id": "8hLkTGGW8ZMD"
      },
      "execution_count": null,
      "outputs": []
    },
    {
      "cell_type": "markdown",
      "source": [
        "# key words arguments"
      ],
      "metadata": {
        "id": "d-oEjjXJ_rAa"
      }
    },
    {
      "cell_type": "code",
      "source": [
        "def print_it(**kwargs):\n",
        "       print()\n",
        "       for name,value in kwargs.items():\n",
        "           print(name,value,end=',')\n",
        "print_it(a=10)\n",
        "print_it(a=10,b=20)\n",
        "print_it(a=10,b=20,c=30)\n",
        "\n",
        ""
      ],
      "metadata": {
        "id": "Bj6Kne56_v23"
      },
      "execution_count": null,
      "outputs": []
    },
    {
      "cell_type": "markdown",
      "source": [
        "# default arguments"
      ],
      "metadata": {
        "id": "x9139YtBDG1d"
      }
    },
    {
      "cell_type": "code",
      "source": [
        "def display(name,course='btech'):\n",
        "        print('name:' ,name)\n",
        "        print('course:',course)\n",
        "display(course='mca',name='ajay')\n",
        "display(name='jaya')"
      ],
      "metadata": {
        "id": "02BkN6nQDMAt"
      },
      "execution_count": null,
      "outputs": []
    },
    {
      "cell_type": "markdown",
      "source": [],
      "metadata": {
        "id": "ZMOJA5-0LSXW"
      }
    },
    {
      "cell_type": "markdown",
      "source": [
        "#passing collections as parameters to a function"
      ],
      "metadata": {
        "id": "zGTfCTTDLTb0"
      }
    },
    {
      "cell_type": "code",
      "source": [
        "def pca(l1,l2):\n",
        "     print(l1,l2)\n",
        "lst=[11,22,33,44]\n",
        "tpl=(55,66,77)\n",
        "pca(lst,tpl)"
      ],
      "metadata": {
        "id": "UCEaRmEvLcIG"
      },
      "execution_count": null,
      "outputs": []
    },
    {
      "cell_type": "markdown",
      "source": [
        "#passing functions to a function\n"
      ],
      "metadata": {
        "id": "FQPXNpLiPTBx"
      }
    },
    {
      "cell_type": "code",
      "source": [
        "def fn1(x):\n",
        "    return x+2\n",
        "def fn2(y):\n",
        "    print(y)\n",
        "fn2(fn1(5))"
      ],
      "metadata": {
        "id": "moBKH7YrPZCg"
      },
      "execution_count": null,
      "outputs": []
    },
    {
      "cell_type": "markdown",
      "source": [
        "# inner function"
      ],
      "metadata": {
        "id": "CWybpsjUP5Jv"
      }
    },
    {
      "cell_type": "code",
      "source": [
        "def outer_func():\n",
        "    def inner_func():\n",
        "         print(\"ajay\")\n",
        "    inner_func()\n",
        "outer_func()"
      ],
      "metadata": {
        "id": "W2y3GYr9Qy7G"
      },
      "execution_count": null,
      "outputs": []
    },
    {
      "cell_type": "markdown",
      "source": [
        "# recursive functions"
      ],
      "metadata": {
        "id": "0dSY971mV6n5"
      }
    },
    {
      "cell_type": "code",
      "source": [
        "def fact(n):\n",
        "    if(n==1 or n==0):\n",
        "       return 1\n",
        "    else:\n",
        "       return n*fact(n-1)\n",
        "n=int(input(\"enter value\"))\n",
        "print(\"the factorial is :\",fact(n))"
      ],
      "metadata": {
        "id": "i1qELV84WA8h"
      },
      "execution_count": null,
      "outputs": []
    },
    {
      "cell_type": "markdown",
      "source": [
        "# modules"
      ],
      "metadata": {
        "id": "XADFrHt_Yk71"
      }
    },
    {
      "cell_type": "code",
      "source": [
        "def nm():\n",
        "      print(\"name:-----\")\n",
        "def rno():\n",
        "      print(\"roll no:----\")\n",
        "print(__name__)\n",
        "nm()\n",
        "rno()"
      ],
      "metadata": {
        "id": "ohKUDWocYju3"
      },
      "execution_count": null,
      "outputs": []
    },
    {
      "cell_type": "markdown",
      "source": [
        "#dir()"
      ],
      "metadata": {
        "id": "wKKIJ1bidkIB"
      }
    },
    {
      "cell_type": "code",
      "source": [
        "print(dir(lst))"
      ],
      "metadata": {
        "id": "pTE0FvQQdoW_"
      },
      "execution_count": null,
      "outputs": []
    },
    {
      "cell_type": "code",
      "source": [],
      "metadata": {
        "id": "Dmc40Qj0fFr1"
      },
      "execution_count": null,
      "outputs": []
    },
    {
      "cell_type": "markdown",
      "source": [
        "# selection sorting\n"
      ],
      "metadata": {
        "id": "balmmgUjiTAe"
      }
    },
    {
      "cell_type": "code",
      "source": [
        "lst=[2334,456,765,8,754,5,32,8]\n",
        "for i in range(0,len(lst)):\n",
        "     mvi=i\n",
        "     for j in range(i+1,len(lst)):\n",
        "            if lst[mvi]>lst[j]:\n",
        "              mvi=j\n",
        "     temp=lst[i]\n",
        "     lst[i]=lst[mvi]\n",
        "     lst[mvi]=temp\n",
        "     print(lst)"
      ],
      "metadata": {
        "id": "P8ZTTV2Z4yic"
      },
      "execution_count": null,
      "outputs": []
    },
    {
      "cell_type": "code",
      "source": [
        "l=[54,48,18,96,24]\n",
        "for i in range(1,len(l)):\n",
        "          cv=l[i]\n",
        "          sl_lei=i-1\n",
        "          while sl_lei>=0 and cv<l[sl_lei]:\n",
        "              l[sl_lei+1]=l[sl_lei]\n",
        "              sl_lei=sl_lei-1\n",
        "          l[sl_lei+1]=cv\n",
        "          print(l)\n",
        ""
      ],
      "metadata": {
        "id": "XUc_-J1xiZPW"
      },
      "execution_count": null,
      "outputs": []
    },
    {
      "cell_type": "markdown",
      "source": [
        "# bubble sorting"
      ],
      "metadata": {
        "id": "xM4arfEeBbcS"
      }
    },
    {
      "cell_type": "code",
      "source": [
        "lst=[54,48,18,96,24]\n",
        "for i in range(0,len(lst)):\n",
        "         com=lst[i]\n",
        "         for j in range(i+1,len(lst)):\n",
        "                  if com>lst[j]:\n",
        "                       temp=lst[j]\n",
        "                       lst[j]=com\n",
        "                       com=temp\n",
        "                       print(lst)\n",
        "\n",
        "\n",
        "\n",
        ""
      ],
      "metadata": {
        "id": "OIy0sDhxBfQh"
      },
      "execution_count": null,
      "outputs": []
    },
    {
      "cell_type": "markdown",
      "source": [
        "# linear search"
      ],
      "metadata": {
        "id": "gEw-sOtD9cjF"
      }
    },
    {
      "cell_type": "code",
      "source": [
        "lst=input(\"enter elements\")\n",
        "search=input(\"enter number\")\n",
        "for index in range (0,len(lst)):\n",
        "  if search==lst[index]:\n",
        "    print(search,\"fount at\",index)\n",
        "    break\n",
        "else:\n",
        "  print(search,\"not found\")\n"
      ],
      "metadata": {
        "id": "iXCrIBOS9gOj"
      },
      "execution_count": null,
      "outputs": []
    },
    {
      "cell_type": "markdown",
      "source": [
        "#binary search"
      ],
      "metadata": {
        "id": "wttrTbt0BULI"
      }
    },
    {
      "cell_type": "code",
      "source": [
        "lst=input(\"enter number\")\n",
        "search=input(\"enter search number\")\n",
        "lower=0\n",
        "upper=len(lst)-1\n",
        "while lower<=upper:\n",
        "       mid=(lower+upper)//2    #because here if we use / this symbol we will get 4.0(ex)in decimal so we use // floar division to get integer number\n",
        "       if search==lst[mid]:\n",
        "               print(search,\"found at\",mid)\n",
        "               break\n",
        "       elif search<lst[mid]:\n",
        "                upper=mid-1\n",
        "       else:\n",
        "         lower=mid+1\n",
        ""
      ],
      "metadata": {
        "id": "alizAxhMBXc5"
      },
      "execution_count": null,
      "outputs": []
    },
    {
      "cell_type": "markdown",
      "source": [
        "# stacks\n",
        "\n",
        "a stack is a linear data structure\n",
        "\n",
        "1.   a stack is a linear data structure\n",
        "2.   stack is called a LIFO (Last-In,First-Out)data structure as the element that is inserted last is the first one to be taken out\n",
        "\n",
        "*   stacks can be implemented either using a list or a linked list\n",
        "*   to delete elements from the stack we use pop()\n",
        "\n",
        "*   we can calculate the length of stack len(stack)  if len(stack)==0 we do pop operation it arrise the error\n",
        "\n",
        "\n",
        "\n",
        "\n",
        "\n",
        "\n"
      ],
      "metadata": {
        "id": "W1ZkjN2NLv2r"
      }
    },
    {
      "cell_type": "markdown",
      "source": [
        "# list representation stacks\n",
        "\n",
        "\n",
        "*   the elements in a stack are added and removed only from one end,which is called the TOP.\n",
        "    \n",
        "#  TOP is used to store the topmost element of the stack.\n",
        "\n"
      ],
      "metadata": {
        "id": "KIm1JRB5Oa9R"
      }
    },
    {
      "cell_type": "markdown",
      "source": [
        "# PUSH OPERATIN\n",
        "\n",
        "\n",
        "*  THE push operation is used to INSERT an element in to the stack\n",
        "*  THE new element is added at the TOPMOST POSITION of the stack\n",
        "\n",
        "\n",
        "*   Before inserting the values,must check if TOP=MAX-1,because if this is the case the if means the STACK IS FULL and no more insertions can further be done.\n",
        "*   If an attempt is made to insert a value ina stack that is\n",
        "\n",
        "\n",
        "\n",
        "\n",
        "\n"
      ],
      "metadata": {
        "id": "JCQHoMI-QMBm"
      }
    },
    {
      "cell_type": "markdown",
      "source": [
        "# writea python program to find the netsalary of an employee"
      ],
      "metadata": {
        "id": "fSCOGC4rQQrK"
      }
    },
    {
      "cell_type": "code",
      "source": [
        "print(\"salary program\")\n",
        "name= str(input(\"Enter name of employee:\"))\n",
        "basic=float(input(\"Enter Basic Salary :\"))\n",
        "da=float(basic*0.25)\n",
        "hra=float(basic*0.15)\n",
        "pf=float((basic+da)*0.12)\n",
        "ta=float(basic*0.075)\n",
        "netsalary=float(basic+da+hra+ta)\n",
        "grosspay=float(netsalary-pf)\n",
        "\n",
        "print(\"\\n\\n\")\n",
        "print(\"S A L A R Y D E T A I L E D B R E A K U P \")\n",
        "print(\"==============================================\")\n",
        "print(\" NAME OF EMPLOYEE : \",name)\n",
        "print(\" BASIC SALARY : \",basic)\n",
        "print(\" DEARNESS ALLOW. : \",da)\n",
        "print(\" HOUSE RENT ALLOW.: \",hra)\n",
        "print(\" TRAVEL ALLOW. : \",ta)\n",
        "print(\"==============================================\")\n",
        "print(\" NET SALARY PAY : \",netsalary)\n",
        "print(\" PROVIDENT FUND : \",pf)\n",
        "print(\"==============================================\")\n",
        "print(\" GROSS PAYMENT : \",grosspay)\n",
        "print(\"==============================================\")\n",
        "\n"
      ],
      "metadata": {
        "id": "OBsv5-GdQbD5"
      },
      "execution_count": null,
      "outputs": []
    },
    {
      "cell_type": "code",
      "source": [
        "x=120.0\n",
        "y=5%3\n",
        "x=int(x/y)\n",
        "print(x)"
      ],
      "metadata": {
        "id": "PSG3mkYIR_Vx"
      },
      "execution_count": null,
      "outputs": []
    },
    {
      "cell_type": "markdown",
      "source": [
        "#find the smallest number of 6 digits which is exactly divisible by number x"
      ],
      "metadata": {
        "id": "xTifjh-jfkfx"
      }
    },
    {
      "cell_type": "code",
      "source": [
        "dnum=int(input(\"enternumber\"))\n",
        "for i in range(100000,999999):\n",
        "       if i/dnum:\n",
        "         print(i)\n",
        "         break"
      ],
      "metadata": {
        "id": "iGOGb3baVpNm"
      },
      "execution_count": null,
      "outputs": []
    },
    {
      "cell_type": "markdown",
      "source": [
        "#write a python programm to round off an integer i in to the next largest multiple of another integer j"
      ],
      "metadata": {
        "id": "3jeNJAKrfjGB"
      }
    },
    {
      "cell_type": "code",
      "source": [
        "i=int(input(\"enter number\"))\n",
        "j=int(input(\"enter number\"))\n",
        "next_multiple=i+j-i%j\n",
        "print(next_multiple)\n",
        ""
      ],
      "metadata": {
        "id": "Xilk16ilbDtj"
      },
      "execution_count": null,
      "outputs": []
    },
    {
      "cell_type": "markdown",
      "source": [
        "# write a python programm to ensure that the sum of any 2 digits number and it reverse"
      ],
      "metadata": {
        "id": "LI8pMa0NgCrX"
      }
    },
    {
      "cell_type": "code",
      "source": [
        "num=int(input(\"enter number\"))\n",
        "sum=0\n",
        "while(i>0):\n",
        "   reminder=i%10\n",
        "   sum=sum+reminder\n",
        "   num=num//10\n",
        "print(\"the sumis \",sum)\n",
        "print(\"the reverse=\",rev(num))\n"
      ],
      "metadata": {
        "id": "Oh70CsjfgUVg"
      },
      "execution_count": null,
      "outputs": []
    },
    {
      "cell_type": "code",
      "source": [
        "stack=[]\n",
        "print(stack)\n",
        "maxsize=int(input(\"enter the value:   \"))\n",
        " def pushElement() :\n",
        "     top=len(stack)=1\n",
        "     if top==maxsize-1:\n",
        "       print(\"stack overflow\")\n",
        "    else:\n",
        "        element=int(input(\"enter the value\"))\n",
        "        stack.append(element)\n",
        "        print(stack)\n",
        "def popElement():\n",
        "    if len(stack)==o:\n",
        "      print(\"stack underflow\")\n",
        "    else:\n",
        "      element=stack.pop()\n",
        "      print(element,\"is popped from the stack\")\n",
        "      print(stack)\n",
        "def peekElement():\n",
        "  if  len(stack)==0:\n",
        "    print(\"stack is empty\")\n",
        "else:\n",
        "    print(\"stack[-1],\"is top of the stack\")\n",
        "while true:\n",
        "  print(\"************MENU********\")\n",
        "  print(\"1.push 2.pop 3.peek 4.quit\")\n",
        "  choice=int(input(\"input(\"enter choice:    \"))\n",
        "  if choice==1:\n",
        "      pushElement()\n",
        "  elif choice==2:\n",
        "      popeElement()\n",
        "  elif choice==3:\n",
        "      peek()\n",
        "  elif choice==4:\n",
        "       break\n",
        " else:\n",
        "      print(\"invalid choice plz try again\")\n",
        "\n",
        "\n",
        "popElement()\n",
        "popElement()\n",
        "pushElement()\n",
        "pushElement()\n",
        "popeElement()\n",
        "pushElement()\n",
        "pushElement()\n"
      ],
      "metadata": {
        "colab": {
          "base_uri": "https://localhost:8080/",
          "height": 130
        },
        "id": "s--ZJRgNvshd",
        "outputId": "0394bda9-f098-42d8-d134-c4c07189c934"
      },
      "execution_count": null,
      "outputs": [
        {
          "output_type": "error",
          "ename": "IndentationError",
          "evalue": "ignored",
          "traceback": [
            "\u001b[0;36m  File \u001b[0;32m\"<ipython-input-6-b46327e7d26b>\"\u001b[0;36m, line \u001b[0;32m4\u001b[0m\n\u001b[0;31m    def pushElement() :\u001b[0m\n\u001b[0m    ^\u001b[0m\n\u001b[0;31mIndentationError\u001b[0m\u001b[0;31m:\u001b[0m unexpected indent\n"
          ]
        }
      ]
    }
  ]
}